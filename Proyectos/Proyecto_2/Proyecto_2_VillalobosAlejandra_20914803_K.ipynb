{
  "cells": [
    {
      "cell_type": "markdown",
      "metadata": {
        "id": "view-in-github",
        "colab_type": "text"
      },
      "source": [
        "<a href=\"https://colab.research.google.com/github/aerimili/EIE401-1-Multimedia/blob/main/Proyectos/Proyecto_2/Proyecto_2_VillalobosAlejandra_20914803_K.ipynb\" target=\"_parent\"><img src=\"https://colab.research.google.com/assets/colab-badge.svg\" alt=\"Open In Colab\"/></a>"
      ]
    },
    {
      "cell_type": "markdown",
      "id": "0a22500b-75f6-4e9e-bff8-e2166e04bd6a",
      "metadata": {
        "id": "0a22500b-75f6-4e9e-bff8-e2166e04bd6a"
      },
      "source": [
        "<h1><center>\n",
        "\n",
        "</center></h1>\n",
        "<font size=\"6\"><center>\n",
        "EIE 401\n",
        "PROCESAMIENTO DIGITAL MULTIMEDIA\n",
        "</center></font>"
      ]
    },
    {
      "cell_type": "markdown",
      "id": "4bb821ab-49e9-40ef-8ecd-d491bba9452c",
      "metadata": {
        "id": "4bb821ab-49e9-40ef-8ecd-d491bba9452c"
      },
      "source": [
        "\n",
        "<center><h2>Proyecto 2</h2></center>\n",
        "<center><h3>Procesamiento digital de señales</h3></center>\n",
        "<center><h3>Profesor: Jorge Cardenas</h3></center>\n",
        "\n",
        "<center><h3>Por: Alejandra Villalobos</h3></center>\n",
        "<center><h5>Pontificia Universidad Catolica de Valparaiso</h5></center>\n"
      ]
    },
    {
      "cell_type": "code",
      "execution_count": null,
      "id": "215c84a4",
      "metadata": {
        "id": "215c84a4"
      },
      "outputs": [],
      "source": [
        "from IPython.display import IFrame, display\n",
        "#filepath = \"Proyecto_2_EIE401.pdf\"\n",
        "#IFrame(filepath, width=700, height=400)"
      ]
    },
    {
      "cell_type": "markdown",
      "id": "c63b11e7",
      "metadata": {
        "id": "c63b11e7"
      },
      "source": [
        "En la dirección https://huggingface.co/datasets/astroboy1/metasurfaces_V1_30-90GHZ encontrarás el archivo batch_june2024.zip que contiene las imagenes que usarás para el procesamiento. ATENCION: usa el archivo zip indicado pues tienes las imagenes preparadas para tu trabajo."
      ]
    },
    {
      "cell_type": "markdown",
      "id": "f0889ee3-d16b-49e3-be4b-a4c94f28701d",
      "metadata": {
        "id": "f0889ee3-d16b-49e3-be4b-a4c94f28701d"
      },
      "source": [
        "## 1. Carga de Datos\n"
      ]
    },
    {
      "cell_type": "markdown",
      "id": "567bb56f",
      "metadata": {
        "id": "567bb56f"
      },
      "source": [
        "- En los archivos, encontrarás un folder con imagenes de 3 categorías: cross, box, circle.\n",
        "Cada imagen tiene una medida de 512x512 pixeles y 3 canales. Se han acentuado los azules y rojos para facilitar el proceso de obtención de características.\n",
        "\n",
        "- Puedes extraer la clase a la que pertenece la imagen, desde el nombre del archivo. Ahí mismo encuentras números de serie que te permiten identificar de forma específica una imagen.\n",
        "\n",
        "- Se te entrega 3 imagenes de referencia de 32x32 pixeles, las que debes usar como plantilla para el proceso de clasificación de la imagen.\n"
      ]
    },
    {
      "cell_type": "code",
      "source": [
        "import zipfile\n",
        "import numpy as np\n",
        "import matplotlib.pyplot as plt\n",
        "import os\n",
        "import pywt\n",
        "import cv2\n",
        "from multiprocessing import Pool\n",
        "from google.colab import files\n",
        "from timeit import default_timer as timer\n",
        "from skimage.feature import match_template"
      ],
      "metadata": {
        "id": "Ra0eULB7qh8e"
      },
      "id": "Ra0eULB7qh8e",
      "execution_count": 1,
      "outputs": []
    },
    {
      "cell_type": "code",
      "execution_count": null,
      "id": "d0ab6ee5-d7a3-4cf7-9aee-1d1a76b5525f",
      "metadata": {
        "tags": [],
        "id": "d0ab6ee5-d7a3-4cf7-9aee-1d1a76b5525f",
        "collapsed": true
      },
      "outputs": [],
      "source": [
        "#Subir archivo \"batch_june2024.zip\"\n",
        "print(\"Suba archivo batch_june2024.zip: \")\n",
        "uploaded = files.upload()"
      ]
    },
    {
      "cell_type": "code",
      "source": [
        "def descomprimirArchivo(archivoZip, carpetaDestino):\n",
        "  \"\"\"\n",
        "  Descomprime archivo Zip en carpeta dada.\n",
        "\n",
        "  Parámetros:\n",
        "  archivoZip: Ruta del archivo Zip a descomprimir.\n",
        "  carpetaDestino: Carpeta donde se guarda el archivo descomprimido\n",
        "  \"\"\"\n",
        "  #Abrir archivo Zip en modo lectura\n",
        "  with zipfile.ZipFile(archivoZip, 'r') as zipRef:\n",
        "     zipRef.extractall(carpetaDestino)\n",
        "\n",
        "rutaZip = \"batch_june2024.zip\" #Ruta de archivo Zip\n",
        "\n",
        "destino = os.path.join(os.path.dirname(rutaZip), \"descomprimido\") #Ruta de carpeta donde se descomprimirá archivo Zip\n",
        "\n",
        "os.makedirs(destino, exist_ok=True) #Crear carpeta si no existe\n",
        "\n",
        "descomprimirArchivo(rutaZip, destino) #Descomprimir archivo Zip en carpeta de destino"
      ],
      "metadata": {
        "id": "PograAUlqUBm"
      },
      "id": "PograAUlqUBm",
      "execution_count": 3,
      "outputs": []
    },
    {
      "cell_type": "code",
      "source": [
        "def redimensionarImagenes(carpetaOrigen, carpetaDestino, nombreImagen):\n",
        "  \"\"\"\n",
        "  Redimensiona una imagen a 128x128 pixeles.\n",
        "\n",
        "  Parámetros:\n",
        "  carpetaOrigen: Carpeta donde se encuentra la imagen a redimensionar\n",
        "  carpetaDestino: Carpeta donde se guarda la imagen redimensionada\n",
        "  nombreImgen: Nombre del archivo de la imagen a redimensionar\n",
        "  \"\"\"\n",
        "\n",
        "  rutaOrigen = os.path.join(carpetaOrigen, nombreImagen) #Definir la ruta de cada imagen en la carpeta de origen\n",
        "  rutaDestino = os.path.join(carpetaDestino, nombreImagen) #Definir la ruta de cada imagen en la carpeta de destino\n",
        "\n",
        "  imagen = cv2.imread(rutaOrigen) #Leer imágenes\n",
        "  imagen = cv2.cvtColor(imagen, cv2.COLOR_BGR2GRAY) #Convertir imágenes a escala de grises\n",
        "  imagen = cv2.resize(imagen, (128,128)) #Redimensionar imágenes a 128x128 pixeles\n",
        "  cv2.imwrite(rutaDestino, imagen) #Guardar imágenes en carpeta de destino\n",
        "\n",
        "def main():\n",
        "  carpetasOrigen = [\"descomprimido/processed512\"] #Carpeta donde se encuentran las imágenes a redimensionar\n",
        "  carpetasDestino = [\"imagenes128x128\"] #Carpeta donde se guardarán imágenes redimensionadas\n",
        "\n",
        "  os.makedirs(carpetasDestino[0], exist_ok=True) #Crear carpeta de destino si no existe\n",
        "\n",
        "  tareas = []\n",
        "  for origen in carpetasOrigen:\n",
        "   for nombreImagen in os.listdir(origen):\n",
        "      if nombreImagen.endswith(('.jpg', '.jpeg', '.png')): #Filtrar archivos que terminen con .jpg, .jpeg, .png\n",
        "         tareas.append((origen, carpetasDestino[0], nombreImagen)) #Agregar tarea a la lista\n",
        "\n",
        "  #Procesamiento en paralelo usando un pool de 4 procesos\n",
        "  with Pool(processes=4) as pool:\n",
        "    pool.starmap(redimensionarImagenes, tareas)\n",
        "\n",
        "if __name__ == '__main__':\n",
        "  main()"
      ],
      "metadata": {
        "id": "pCLJc4vH1CEo"
      },
      "id": "pCLJc4vH1CEo",
      "execution_count": 4,
      "outputs": []
    },
    {
      "cell_type": "code",
      "source": [
        "#Graficar ejemplo de imagen original y redimensionada en escala de grises\n",
        "rutaoriginal = \"descomprimido/processed512/box_01_freq_reflect_09a2f2c2-ad7f-11ee-bb2a-047c16a08772_0-0_80-90.png\"\n",
        "imagenoriginal = cv2.imread(rutaoriginal)\n",
        "rutaredimensionada = \"imagenes128x128/box_01_freq_reflect_09a2f2c2-ad7f-11ee-bb2a-047c16a08772_0-0_80-90.png\"\n",
        "imagenredimensionada = cv2.imread(rutaredimensionada)\n",
        "plt.subplot(121)\n",
        "plt.imshow(imagenoriginal[:,:,[2,1,0]])\n",
        "plt.title(\"Imagen original\")\n",
        "plt.axis(\"off\")\n",
        "plt.subplot(122)\n",
        "plt.imshow(imagenredimensionada[:,:,[2,1,0]], cmap = \"gray\")\n",
        "plt.title(\"Imagen redimensionada\")\n",
        "plt.axis(\"off\")"
      ],
      "metadata": {
        "colab": {
          "base_uri": "https://localhost:8080/",
          "height": 301
        },
        "id": "pauGOQc8VJVI",
        "outputId": "6a7d1083-ef76-464a-864e-59a71bc170ac"
      },
      "id": "pauGOQc8VJVI",
      "execution_count": 5,
      "outputs": [
        {
          "output_type": "execute_result",
          "data": {
            "text/plain": [
              "(-0.5, 127.5, 127.5, -0.5)"
            ]
          },
          "metadata": {},
          "execution_count": 5
        },
        {
          "output_type": "display_data",
          "data": {
            "text/plain": [
              "<Figure size 640x480 with 2 Axes>"
            ],
            "image/png": "[encoded data removed]"
          },
          "metadata": {}
        }
      ]
    },
    {
      "cell_type": "code",
      "source": [
        "#Subir archivo \"box_templae.png\"\n",
        "print(\"Suba archivo box_templae.png: \")\n",
        "uploaded = files.upload()"
      ],
      "metadata": {
        "id": "h5gnG1kltiIf",
        "collapsed": true
      },
      "id": "h5gnG1kltiIf",
      "execution_count": null,
      "outputs": []
    },
    {
      "cell_type": "code",
      "source": [
        "rutaTemplatebox = \"box_templae.png\" #Ruta de plantilla \"box\"\n",
        "templateBox = cv2.imread(rutaTemplatebox) #Leer plantilla\n",
        "templateBox = cv2.cvtColor(templateBox, cv2.COLOR_BGR2GRAY) #Convertir plantilla a escala de grises"
      ],
      "metadata": {
        "id": "mJNLbAS0tm88",
        "collapsed": true
      },
      "id": "mJNLbAS0tm88",
      "execution_count": 7,
      "outputs": []
    },
    {
      "cell_type": "code",
      "source": [
        "#Subir archivo \"cross_templae.png\"\n",
        "print(\"Suba archivo cross_templae.png: \")\n",
        "uploaded = files.upload()"
      ],
      "metadata": {
        "id": "xmDVw_Narvcg",
        "collapsed": true
      },
      "id": "xmDVw_Narvcg",
      "execution_count": null,
      "outputs": []
    },
    {
      "cell_type": "code",
      "source": [
        "rutaTemplateCross = \"cross_templae.png\" #Ruta de plantilla \"cross\"\n",
        "templateCross = cv2.imread(rutaTemplateCross) #Leer plantilla\n",
        "templateCross = cv2.cvtColor(templateCross, cv2.COLOR_BGR2GRAY) #Convertir plantilla a escala de grises"
      ],
      "metadata": {
        "id": "3xKLYLybr4Y2"
      },
      "id": "3xKLYLybr4Y2",
      "execution_count": 9,
      "outputs": []
    },
    {
      "cell_type": "code",
      "source": [
        "#Subir archivo \"circ_templae.png\"\n",
        "print(\"Suba archivo circ_templae.png: \")\n",
        "uploaded = files.upload()"
      ],
      "metadata": {
        "id": "wQNKQoVgtlcW",
        "collapsed": true
      },
      "id": "wQNKQoVgtlcW",
      "execution_count": null,
      "outputs": []
    },
    {
      "cell_type": "code",
      "source": [
        "rutaTemplateCirc = \"circ_templae.png\" #Ruta de plantilla \"circ\"\n",
        "templateCirc = cv2.imread(rutaTemplateCirc) #Leer plantilla\n",
        "templateCirc = cv2.cvtColor(templateCirc, cv2.COLOR_BGR2GRAY) #Convertir plantilla a escala de grises"
      ],
      "metadata": {
        "id": "t1WsFZpatkKf",
        "collapsed": true
      },
      "id": "t1WsFZpatkKf",
      "execution_count": 11,
      "outputs": []
    },
    {
      "cell_type": "code",
      "source": [
        "#Graficar plantillas en escala de grises\n",
        "plt.subplot(131)\n",
        "plt.imshow(templateBox, cmap=\"gray\")\n",
        "plt.title(\"Plantilla box\")\n",
        "plt.axis(\"off\")\n",
        "plt.subplot(132)\n",
        "plt.imshow(templateCross, cmap=\"gray\")\n",
        "plt.title(\"Plantilla cross\")\n",
        "plt.axis(\"off\")\n",
        "plt.subplot(133)\n",
        "plt.imshow(templateCirc, cmap=\"gray\")\n",
        "plt.title(\"Plantilla circ\")\n",
        "plt.axis(\"off\")"
      ],
      "metadata": {
        "colab": {
          "base_uri": "https://localhost:8080/",
          "height": 222
        },
        "collapsed": true,
        "id": "OOfVtPp_GN_S",
        "outputId": "d5653b7b-9f71-4df4-bc14-ce331cf918ed"
      },
      "id": "OOfVtPp_GN_S",
      "execution_count": 12,
      "outputs": [
        {
          "output_type": "execute_result",
          "data": {
            "text/plain": [
              "(-0.5, 15.5, 15.5, -0.5)"
            ]
          },
          "metadata": {},
          "execution_count": 12
        },
        {
          "output_type": "display_data",
          "data": {
            "text/plain": [
              "<Figure size 640x480 with 3 Axes>"
            ],
            "image/png": "[encoded data removed]"
          },
          "metadata": {}
        }
      ]
    },
    {
      "cell_type": "markdown",
      "id": "28db8b8d",
      "metadata": {
        "id": "28db8b8d"
      },
      "source": [
        "## 2. Transformar imagen\n",
        "Recuerda que la tarea es lograr el procesamiento más rápido posible.\n",
        "Para lograr esto, realiza las operaciones que consideres necesarias sobre la imagen original para el posterior trabajo de Matching con las plantillas dadas. Crees que trabajar en el dominio de fourier o wavelet ayudaría en las etapas posteriores?"
      ]
    },
    {
      "cell_type": "code",
      "source": [
        "def waveletImagen(carpetasOrigen, carpetasDestino, nombreImagen):\n",
        "  \"\"\"\n",
        "  Transformada wavelet a imágenes\n",
        "\n",
        "  Parámetros:\n",
        "  carpetaOrigen: Carpeta donde se encuentra la imagen a transformar\n",
        "  carpetaDestino: Carpeta donde se guarda la imagen a transformar\n",
        "  nombreImgen: Nombre del archivo de la imagen a transformar\n",
        "  \"\"\"\n",
        "  rutaOrigen = os.path.join(carpetasOrigen, nombreImagen) #Definir la ruta de cada imagen en la carpeta de origen\n",
        "  rutaDestino = os.path.join(carpetasDestino, nombreImagen) #Definir la ruta de cada imagen en la carpeta de destino\n",
        "\n",
        "  imagen = cv2.imread(rutaOrigen) #Leer imágenes\n",
        "  imagen = cv2.cvtColor(imagen, cv2.COLOR_BGR2GRAY) #Convertir imágenes a escala de grises\n",
        "  coeffs = pywt.wavedec2(imagen, 'haar', level=1) #Realizar transformada wavelet a imágenes\n",
        "  cA, (cH, cV, cD) = coeffs #Obtener componentes de la transformada wavelet\n",
        "  cv2.imwrite(rutaDestino, cA) #Guardar imágenes en carpeta de destino\n",
        "\n",
        "def waveletTemplates(carpetasDestino, nombreImagen):\n",
        "  \"\"\"\n",
        "  Transformada wavelet a plantillas\n",
        "\n",
        "  Parámetros:\n",
        "  carpetaDestino: Carpeta donde se guarda la plantilla a transformar\n",
        "  nombreImgen: Nombre del archivo de la plantilla a transformar\n",
        "  \"\"\"\n",
        "  rutaDestino = os.path.join(carpetasDestino, nombreImagen) #Definir la ruta de cada plantilla en la carpeta de destino\n",
        "\n",
        "  template = cv2.imread(nombreImagen) #Leer plantillas\n",
        "  template = cv2.cvtColor(template, cv2.COLOR_BGR2GRAY) #Convertir plantillas a escala de grises\n",
        "  coeffs = pywt.wavedec2(template, 'haar', level=1) #Realizar transformada wavelet a plantillas\n",
        "  cA, (cH, cV, cD) = coeffs #Obtener componentes de la transformada wavelet\n",
        "  cv2.imwrite(rutaDestino, cA) #Guardar plantillas en carpeta de destino\n",
        "\n",
        "def main2():\n",
        "  carpetasorigen = [\"imagenes128x128\"] #Carpeta donde se encuentran las imágenes a realizar la transformada\n",
        "  carpetasdestino = [\"imageneswav\", \"templateswav\"] #Carpeta donde se guardarán las imágenes transformadas\n",
        "  rutaTemplates = [\"box_templae.png\", \"cross_templae.png\", \"circ_templae.png\"] #Ruta de plantillas\n",
        "\n",
        "  os.makedirs(carpetasdestino[0], exist_ok=True) #Crear carpeta de destino de imágenes transformadas si no existe\n",
        "  os.makedirs(carpetasdestino[1], exist_ok=True) #Crear carpeta de destino de plantillas transformadas si no existe\n",
        "\n",
        "  tareas = []\n",
        "  for origen in carpetasorigen:\n",
        "    for nombreImagen in os.listdir(origen):\n",
        "      if nombreImagen.endswith(('.jpg', '.jpeg', '.png')): #Filtrar archivos que terminen con .jpg, .jpeg, .png\n",
        "        tareas.append((origen, carpetasdestino[0], nombreImagen)) #Agregar tareas a la lista\n",
        "\n",
        "  #Procesamiento en paralelo usando un pool de 4 procesos\n",
        "  with Pool(processes=4) as pool:\n",
        "    pool.starmap(waveletImagen, tareas)\n",
        "\n",
        "  tareasTemplate = []\n",
        "  for rutaTemplate in rutaTemplates:\n",
        "    tareasTemplate.append((carpetasdestino[1], rutaTemplate)) #Agregar tareasTemplate a la lista\n",
        "\n",
        "  #Procesamiento en paralelo usando un pool de 4 procesos\n",
        "  with Pool(processes=4) as pool:\n",
        "    pool.starmap(waveletTemplates, tareasTemplate)\n",
        "\n",
        "if __name__ == '__main__':\n",
        "  main2()"
      ],
      "metadata": {
        "id": "x7ajk2LaDyR5"
      },
      "id": "x7ajk2LaDyR5",
      "execution_count": 13,
      "outputs": []
    },
    {
      "cell_type": "code",
      "source": [
        "#Graficar ejemplo de imagen transformada\n",
        "rutatransformada = \"imageneswav/box_01_freq_reflect_09a2f2c2-ad7f-11ee-bb2a-047c16a08772_0-0_80-90.png\"\n",
        "imagentransformada = cv2.imread(rutatransformada)\n",
        "plt.imshow(imagentransformada, cmap=\"gray\")\n",
        "plt.title(\"Imagen con transformada wavelet\")\n",
        "plt.axis(\"off\")"
      ],
      "metadata": {
        "colab": {
          "base_uri": "https://localhost:8080/",
          "height": 445
        },
        "id": "wTOz6NXMp1q8",
        "outputId": "a5863f7e-e733-46f5-e5f6-2d3091d5b748"
      },
      "id": "wTOz6NXMp1q8",
      "execution_count": 14,
      "outputs": [
        {
          "output_type": "execute_result",
          "data": {
            "text/plain": [
              "(-0.5, 63.5, 63.5, -0.5)"
            ]
          },
          "metadata": {},
          "execution_count": 14
        },
        {
          "output_type": "display_data",
          "data": {
            "text/plain": [
              "<Figure size 640x480 with 1 Axes>"
            ],
            "image/png": "[encoded data removed]"
          },
          "metadata": {}
        }
      ]
    },
    {
      "cell_type": "code",
      "source": [
        "#Graficar plantillas con transformacion Wavelet\n",
        "rutatemplateboxwav = \"templateswav/box_templae.png\"\n",
        "templateBoxwav = cv2.imread(rutatemplateboxwav)\n",
        "rutatemplatecrosswav = \"templateswav/cross_templae.png\"\n",
        "templateCrosswav = cv2.imread(rutatemplatecrosswav)\n",
        "rutatemplatecircwav = \"templateswav/circ_templae.png\"\n",
        "templateCircwav = cv2.imread(rutatemplatecircwav)\n",
        "plt.figure(figsize=(13, 5))\n",
        "plt.subplot(131)\n",
        "plt.imshow(templateBoxwav, cmap=\"gray\")\n",
        "plt.title(\"Box con transformada wavelet\", fontsize = 15)\n",
        "plt.axis(\"off\")\n",
        "plt.subplot(132)\n",
        "plt.imshow(templateCrosswav, cmap=\"gray\")\n",
        "plt.title(\"Cross con transformada wavelet\", fontsize = 15)\n",
        "plt.axis(\"off\")\n",
        "plt.subplot(133)\n",
        "plt.imshow(templateCircwav, cmap=\"gray\")\n",
        "plt.title(\"Circ con transformada wavelet\", fontsize = 15)\n",
        "plt.axis(\"off\")"
      ],
      "metadata": {
        "colab": {
          "base_uri": "https://localhost:8080/",
          "height": 374
        },
        "id": "ckfqOSCI03-H",
        "outputId": "a733e0c8-d92b-4eeb-fa91-7850fdf50989"
      },
      "id": "ckfqOSCI03-H",
      "execution_count": 17,
      "outputs": [
        {
          "output_type": "execute_result",
          "data": {
            "text/plain": [
              "(-0.5, 7.5, 7.5, -0.5)"
            ]
          },
          "metadata": {},
          "execution_count": 17
        },
        {
          "output_type": "display_data",
          "data": {
            "text/plain": [
              "<Figure size 1300x500 with 3 Axes>"
            ],
            "image/png": "[encoded data removed]"
          },
          "metadata": {}
        }
      ]
    },
    {
      "cell_type": "markdown",
      "id": "c64b67c8",
      "metadata": {
        "id": "c64b67c8"
      },
      "source": [
        "## 3. Operaciones\n",
        "Para extraer las caracteristicas, debes realizar las operaciones de segmentación, normalización o convolución como creas necesarias.\n",
        "El resultado de tus operaciones vas a usarlo para el proceso de matching.\n"
      ]
    },
    {
      "cell_type": "code",
      "source": [
        "def convolucion(imagen, kernel):\n",
        "  \"\"\"\n",
        "  Realiza una convolución con un kernel dado.\n",
        "\n",
        "  Parámetros:\n",
        "  imagen: Imagen a convolucionar\n",
        "  kernel: Kernel\n",
        "  \"\"\"\n",
        "  imagenConv = cv2.filter2D(imagen, -1, kernel) #Aplicar convolución 2D con kernel dado\n",
        "  return imagenConv"
      ],
      "metadata": {
        "id": "9i-atmNNN4xU"
      },
      "id": "9i-atmNNN4xU",
      "execution_count": 18,
      "outputs": []
    },
    {
      "cell_type": "code",
      "source": [
        "def segmentar(imagen):\n",
        "  \"\"\"\n",
        "  Segmentar imagen a binaria.\n",
        "\n",
        "  Parámetros:\n",
        "  imagen: Imagen a segmentar\n",
        "  \"\"\"\n",
        "  _, imagenBin = cv2.threshold(imagen, 0, 255, cv2.THRESH_BINARY, cv2.THRESH_OTSU) #Aplicar el umbral de Otsu para segmentar la imagen\n",
        "  return imagenBin"
      ],
      "metadata": {
        "id": "1TtOcKQiuFG-"
      },
      "id": "1TtOcKQiuFG-",
      "execution_count": 19,
      "outputs": []
    },
    {
      "cell_type": "code",
      "source": [
        "def normalizacion(imagen):\n",
        "  \"\"\"\n",
        "  Normalizar imagen.\n",
        "\n",
        "  Parámetros:\n",
        "  imagen: Imagen a normalizar\n",
        "  \"\"\"\n",
        "  imagen = imagen.astype(\"float32\") #Convertir imagen a tipo float32\n",
        "  minVal = np.min(imagen) #Obtener valor mínimo de la imagen\n",
        "  maxVal = np.max(imagen) #Obtener valor máximo de la imagen\n",
        "  imagen = (imagen-minVal) / (maxVal - minVal) #Normalización de la imagen\n",
        "  imagen = (imagen * 255).astype(\"uint8\") #Escalar pixeles a rango [0, 255]\n",
        "  return imagen"
      ],
      "metadata": {
        "id": "OMDuSYeCN6VE"
      },
      "id": "OMDuSYeCN6VE",
      "execution_count": 20,
      "outputs": []
    },
    {
      "cell_type": "code",
      "source": [
        "def operacionesImagen(carpetaOrigen, carpetaDestino, nombreImagen):\n",
        "  \"\"\"\n",
        "  Se realizan las operaciones de convolución, segmentación y normalización a una imagen y se guardan en una carpeta.\n",
        "\n",
        "  Parámetros:\n",
        "  carpetaOrigen: Carpeta donde se encuentra la imagen a realizar las operaciones\n",
        "  carpetaDestino: Carpeta donde se guarda la imagen a realizar las operaciones\n",
        "  nombreImagen: Nombre del archivo de la imagen a realizar las operaciones\n",
        "  \"\"\"\n",
        "  rutaOrigen = os.path.join(carpetaOrigen, nombreImagen) #Definir la ruta de cada imagen en la carpeta de origen\n",
        "  rutaDestino = os.path.join(carpetaDestino, nombreImagen) #Definir la ruta de cada imagen en la carpeta de destino\n",
        "\n",
        "  imagen = cv2.imread(rutaOrigen) #Leer imágenes\n",
        "  imagen = cv2.cvtColor(imagen, cv2.COLOR_BGR2GRAY) #Convertir imagen a escala de grises\n",
        "  kernel = np.array([[0, 1, 0], [1, -4, 1], [0, 1, 0]]) #kernel para la convolución\n",
        "  imagen = convolucion(imagen, kernel) #Realizar convolución entre imagen y kernel\n",
        "  imagen = segmentar(imagen) #Segmentar imagen convolucionada\n",
        "  imagen = normalizacion(imagen) #Normalizar imagen segmentada\n",
        "  cv2.imwrite(rutaDestino, imagen) #Guardar imagen con operaciones realizadas en carpeta de destino\n",
        "\n",
        "def main3():\n",
        "  carpetasorigen = [\"imageneswav\"] #Carpeta donde se encuentran las imágenes a realizar las operaciones\n",
        "  carpetasorigenTemplate = [\"templateswav\"] #Carpeta donde se encuentran las plantillas a realizar las operaciones\n",
        "  carpetasdestino = [\"imagenespreprocesadas\"] #Carpeta donde se guardarán las imágenes con operaciones\n",
        "  carpetasdestinoTemplate = [\"templatespreprocesadas\"] #Carpeta donde se guardarán las plantillas con operaciones\n",
        "\n",
        "  os.makedirs(carpetasdestino[0], exist_ok=True) #Crear carpeta de destino de imágenes con operaciones si no existe\n",
        "  os.makedirs(carpetasdestinoTemplate[0], exist_ok=True) #Crear carpeta de destino de plantillas con operaciones si no existe\n",
        "\n",
        "  tareasI = []\n",
        "  for origen in carpetasorigen:\n",
        "    for nombreImagen in os.listdir(origen):\n",
        "      if nombreImagen.endswith(('.jpg', '.jpeg', '.png')): #Filtrar archivos que terminen con .jpg, .jpeg, .png\n",
        "        tareasI.append((origen, carpetasdestino[0], nombreImagen)) #Agregar tareas a la lista\n",
        "\n",
        "  #Procesamiento en paralelo usando un pool de 4 procesos\n",
        "  with Pool(processes=4) as pool:\n",
        "    pool.starmap(operacionesImagen, tareasI)\n",
        "\n",
        "  tareasTemplate = []\n",
        "  for origenTemplate in carpetasorigenTemplate:\n",
        "    for nombreTemplate in os.listdir(origenTemplate):\n",
        "      if nombreTemplate.endswith(('.jpg', '.jpeg', '.png')): #Filtrar archivos que terminen con .jpg, .jpeg, .png\n",
        "        tareasTemplate.append((origenTemplate, carpetasdestinoTemplate[0], nombreTemplate)) #Agregar tareas a la lista\n",
        "\n",
        "  #Procesamiento en paralelo usando un pool de 4 procesos\n",
        "  with Pool(processes=4) as pool:\n",
        "    pool.starmap(operacionesImagen, tareasTemplate)\n",
        "\n",
        "if __name__ == '__main__':\n",
        "  main3()"
      ],
      "metadata": {
        "id": "gSk8BeYYK5_5"
      },
      "id": "gSk8BeYYK5_5",
      "execution_count": 21,
      "outputs": []
    },
    {
      "cell_type": "code",
      "source": [
        "#Grafica de ejemplo de imagen con operaciones\n",
        "kernel = np.array([[0, 1, 0], [1, -4, 1], [0, 1, 0]])\n",
        "imagenconv = convolucion(imagentransformada, kernel)\n",
        "imagenseg = segmentar(imagenconv)\n",
        "imagennorm = normalizacion(imagenseg)\n",
        "plt.figure(figsize=(10, 5))\n",
        "plt.subplot(131)\n",
        "plt.imshow(imagenconv, cmap=\"gray\")\n",
        "plt.title(\"Imagen convolucionada con kernel\")\n",
        "plt.axis(\"off\")\n",
        "plt.subplot(132)\n",
        "plt.imshow(imagenseg, cmap=\"gray\")\n",
        "plt.title(\"Imagen segmentada\")\n",
        "plt.axis(\"off\")\n",
        "plt.subplot(133)\n",
        "plt.imshow(imagennorm, cmap=\"gray\")\n",
        "plt.title(\"Imagen normalizada\")\n",
        "plt.axis(\"off\")"
      ],
      "metadata": {
        "colab": {
          "base_uri": "https://localhost:8080/",
          "height": 304
        },
        "id": "WNCMKmpRqv7l",
        "outputId": "53601f61-6c44-437b-b105-d28d75809267"
      },
      "id": "WNCMKmpRqv7l",
      "execution_count": 22,
      "outputs": [
        {
          "output_type": "execute_result",
          "data": {
            "text/plain": [
              "(-0.5, 63.5, 63.5, -0.5)"
            ]
          },
          "metadata": {},
          "execution_count": 22
        },
        {
          "output_type": "display_data",
          "data": {
            "text/plain": [
              "<Figure size 1000x500 with 3 Axes>"
            ],
            "image/png": "[encoded data removed]"
          },
          "metadata": {}
        }
      ]
    },
    {
      "cell_type": "code",
      "source": [
        "#Grafica de plantilla box con operaciones\n",
        "imagenconvbox = convolucion(templateBoxwav, kernel)\n",
        "imagensegbox = segmentar(imagenconvbox)\n",
        "imagennormbox = normalizacion(imagensegbox)\n",
        "plt.figure(figsize=(10, 5))\n",
        "plt.subplot(131)\n",
        "plt.imshow(imagenconvbox, cmap=\"gray\")\n",
        "plt.title(\"Box convolucionada con kernel\")\n",
        "plt.axis(\"off\")\n",
        "plt.subplot(132)\n",
        "plt.imshow(imagensegbox, cmap=\"gray\")\n",
        "plt.title(\"Box segmentada\")\n",
        "plt.axis(\"off\")\n",
        "plt.subplot(133)\n",
        "plt.imshow(imagennormbox, cmap=\"gray\")\n",
        "plt.title(\"Box normalizada\")\n",
        "plt.axis(\"off\")"
      ],
      "metadata": {
        "colab": {
          "base_uri": "https://localhost:8080/",
          "height": 304
        },
        "id": "GlzZcO7u3670",
        "outputId": "d0d42759-7a59-486b-d9dd-568b0e68e8be"
      },
      "id": "GlzZcO7u3670",
      "execution_count": 23,
      "outputs": [
        {
          "output_type": "execute_result",
          "data": {
            "text/plain": [
              "(-0.5, 7.5, 7.5, -0.5)"
            ]
          },
          "metadata": {},
          "execution_count": 23
        },
        {
          "output_type": "display_data",
          "data": {
            "text/plain": [
              "<Figure size 1000x500 with 3 Axes>"
            ],
            "image/png": "[encoded data removed]"
          },
          "metadata": {}
        }
      ]
    },
    {
      "cell_type": "code",
      "source": [
        "#Grafica de plantilla cross con operaciones\n",
        "imagenconvcross = convolucion(templateCrosswav, kernel)\n",
        "imagensegcross = segmentar(imagenconvcross)\n",
        "imagennormcross = normalizacion(imagensegcross)\n",
        "plt.figure(figsize=(10, 5))\n",
        "plt.subplot(131)\n",
        "plt.imshow(imagenconvcross, cmap=\"gray\")\n",
        "plt.title(\"Cross convolucionada con kernel\")\n",
        "plt.axis(\"off\")\n",
        "plt.subplot(132)\n",
        "plt.imshow(imagensegcross, cmap=\"gray\")\n",
        "plt.title(\"Cross segmentada\")\n",
        "plt.axis(\"off\")\n",
        "plt.subplot(133)\n",
        "plt.imshow(imagennormcross, cmap=\"gray\")\n",
        "plt.title(\"Cross normalizada\")\n",
        "plt.axis(\"off\")"
      ],
      "metadata": {
        "colab": {
          "base_uri": "https://localhost:8080/",
          "height": 304
        },
        "id": "LfnTuH3C4nZO",
        "outputId": "cde3ce97-4b93-49f9-892b-d0e1a863bf89"
      },
      "id": "LfnTuH3C4nZO",
      "execution_count": 24,
      "outputs": [
        {
          "output_type": "execute_result",
          "data": {
            "text/plain": [
              "(-0.5, 7.5, 7.5, -0.5)"
            ]
          },
          "metadata": {},
          "execution_count": 24
        },
        {
          "output_type": "display_data",
          "data": {
            "text/plain": [
              "<Figure size 1000x500 with 3 Axes>"
            ],
            "image/png": "[encoded data removed]"
          },
          "metadata": {}
        }
      ]
    },
    {
      "cell_type": "code",
      "source": [
        "#Grafica de plantilla circ con operaciones\n",
        "imagenconvcirc = convolucion(templateCircwav, kernel)\n",
        "imagensegcirc = segmentar(imagenconvcirc)\n",
        "imagennormcirc = normalizacion(imagensegcirc)\n",
        "plt.figure(figsize=(10, 5))\n",
        "plt.subplot(131)\n",
        "plt.imshow(imagenconvcirc, cmap=\"gray\")\n",
        "plt.title(\"Circ convolucionada con kernel\")\n",
        "plt.axis(\"off\")\n",
        "plt.subplot(132)\n",
        "plt.imshow(imagensegcirc, cmap=\"gray\")\n",
        "plt.title(\"Circ segmentada\")\n",
        "plt.axis(\"off\")\n",
        "plt.subplot(133)\n",
        "plt.imshow(imagennormcirc, cmap=\"gray\")\n",
        "plt.title(\"Circ normalizada\")\n",
        "plt.axis(\"off\")"
      ],
      "metadata": {
        "colab": {
          "base_uri": "https://localhost:8080/",
          "height": 304
        },
        "id": "kxBSJHEA41XG",
        "outputId": "1b78cfc9-f768-4387-dec9-108cf3a912a6"
      },
      "id": "kxBSJHEA41XG",
      "execution_count": 25,
      "outputs": [
        {
          "output_type": "execute_result",
          "data": {
            "text/plain": [
              "(-0.5, 7.5, 7.5, -0.5)"
            ]
          },
          "metadata": {},
          "execution_count": 25
        },
        {
          "output_type": "display_data",
          "data": {
            "text/plain": [
              "<Figure size 1000x500 with 3 Axes>"
            ],
            "image/png": "[encoded data removed]"
          },
          "metadata": {}
        }
      ]
    },
    {
      "cell_type": "markdown",
      "id": "55e692dd",
      "metadata": {
        "id": "55e692dd"
      },
      "source": [
        "## 4. Matching\n",
        "El proceso de matching debe considerar que vas a usar las imagenes de referencia para calcular la correlación\n",
        "\n",
        "Este proceso es similar a un windowing, donde la ventana es la imagen de referencia.\n",
        "Como verás es un proceso iterativo, dispendioso, pero en el que puedes poner tu creatividad a funcionar para lograrlo de forma eficiente.\n",
        "\n",
        "#### _TIP: realiza el proceso un batch pequeño de imagenes, o solo sobre un par de ellas, hasta que estés satisfecho con el resultado. Una vez esté listo, ESCALA el procedimiento para operar todas la imagenes lo más rápido posible.!_"
      ]
    },
    {
      "cell_type": "code",
      "source": [
        "def matching(imagen, template):\n",
        "  \"\"\"\n",
        "  Realiza el matching entre una imagen y una plantilla.\n",
        "\n",
        "  Parámetros:\n",
        "  imagen: Imagen a realizar el matching\n",
        "  template: Plantilla a realizar el matching\n",
        "  \"\"\"\n",
        "  result = match_template(imagen, template) #Realizar matching entre imagen y plantilla\n",
        "\n",
        "  return result.max()"
      ],
      "metadata": {
        "id": "w0L6f0vhtiyG",
        "collapsed": true
      },
      "id": "w0L6f0vhtiyG",
      "execution_count": 73,
      "outputs": []
    },
    {
      "cell_type": "code",
      "source": [
        "def caracteristicas(imagen, wSize):\n",
        "  \"\"\"\n",
        "  Extrae las caracteristicas de una imagen.\n",
        "\n",
        "  Parámetros:\n",
        "  imagen: Imagen a extraer las caracteristicas\n",
        "  wSize: Tamaño de la ventana\n",
        "  \"\"\"\n",
        "  caract = []\n",
        "\n",
        "  #Recorrer la ventana por la imagen\n",
        "  for i in range(0, imagen.shape[0] - wSize + 1, wSize):\n",
        "    for j in range(0, imagen.shape[1] - wSize + 1, wSize):\n",
        "      ventana = imagen[i:i+wSize, j:j+wSize] #Extraer ventana de la imagen\n",
        "      caract.append(ventana) #Agregar ventana a las características\n",
        "  return caract"
      ],
      "metadata": {
        "id": "LS7sKymqRQmV"
      },
      "id": "LS7sKymqRQmV",
      "execution_count": 74,
      "outputs": []
    },
    {
      "cell_type": "markdown",
      "id": "550b44f5",
      "metadata": {
        "tags": [],
        "id": "550b44f5"
      },
      "source": [
        "# 5. Clasificación\n",
        "De cada operación realizada de matching, obtendrás valores para inferir si la imagen bajo estudio corresponde con alguna de las 3 categorías: cross, box, circle.\n",
        "\n",
        "Debes almacenar cada resultado obtenido para cada imagen, hallar el error de clasificación y generar un informe del error general al clasificar todas las imagenes."
      ]
    },
    {
      "cell_type": "markdown",
      "id": "50606ff2-b6ab-4b75-9292-ca6dfd1f2cf3",
      "metadata": {
        "tags": [],
        "id": "50606ff2-b6ab-4b75-9292-ca6dfd1f2cf3"
      },
      "source": [
        "Presenta aquí el resultado de clasificación numérico, así como  dos ejemplos verdaderos y dos ejemplos falsos de imagenes clasificadas.\n"
      ]
    },
    {
      "cell_type": "code",
      "source": [
        "def clasificaciones(imagen, templates, wSize):\n",
        "  \"\"\"\n",
        "  Clasifica la imagen entre la categoría de las 3 plantillas.\n",
        "\n",
        "  Parámetros:\n",
        "  imagen: Imagen a clasificar\n",
        "  templates: Plantillas según las categorias\n",
        "  wSize: Tamaño de la ventana\n",
        "  \"\"\"\n",
        "  caractImagen = caracteristicas(imagen, wSize) #Obtener características de la imagen\n",
        "  mejorCorr = -1 #Iniciar mejores correlaciones con -1\n",
        "  mejorClase = None #Iniciar mejores clases con None\n",
        "\n",
        "  #Comparación de las características de la imagen con las plantillas\n",
        "  for template, nombreTemplate in templates:\n",
        "    for caracteristica in caractImagen:\n",
        "      corr = matching(caracteristica, template) #Calcular correlación entre caracteristica y plantilla\n",
        "      if corr > mejorCorr:\n",
        "        mejorCorr = corr #Actualiza la mejor correlación\n",
        "        mejorClase = nombreTemplate #Actualiza la mejor clase\n",
        "\n",
        "  return mejorClase"
      ],
      "metadata": {
        "id": "ZuGS1CyLpA14"
      },
      "id": "ZuGS1CyLpA14",
      "execution_count": 79,
      "outputs": []
    },
    {
      "cell_type": "code",
      "source": [
        "def procesarImagen(carpetaOrigen, nombreImagen, templates, wSize):\n",
        "  \"\"\"\n",
        "  Procesar imagen y clasificarla.\n",
        "\n",
        "  Parámetros:\n",
        "  carpetaOrigen: Carpeta donde se encuentra la imagen a procesar\n",
        "  nombreImagen: Nombre del archivo de la imagen a procesar\n",
        "  templates: Plantillas según las categorias\n",
        "  wSize: Tamaño de la ventana\n",
        "  \"\"\"\n",
        "  rutaImagen = os.path.join(carpetaOrigen, nombreImagen) #Definir la ruta de cada imagen en la carpeta de origen\n",
        "  imagen = cv2.imread(rutaImagen) #Leer imágenes\n",
        "  imagen = cv2.cvtColor(imagen, cv2.COLOR_BGR2GRAY) #Convertir imágenes a escala de grises\n",
        "  claseMio = clasificaciones(imagen, templates, wSize) #Clasificar la imagen\n",
        "  claseReal = nombreImagen.split(\"_\")[0] #Obtener la clase real de la imagen\n",
        "  return (nombreImagen, claseReal, claseMio)"
      ],
      "metadata": {
        "id": "ggS0I9o6vSO_"
      },
      "id": "ggS0I9o6vSO_",
      "execution_count": 76,
      "outputs": []
    },
    {
      "cell_type": "code",
      "source": [
        "def main4():\n",
        "\n",
        "  start = timer() #Empezar tiempo\n",
        "  carpetaImagenes = \"imagenespreprocesadas\" #Carpeta donde se encuentran las imagenes con las operaciones\n",
        "  carpetaTemplates = \"templatespreprocesadas\" #Carpeta donde se encuentran las plantillas con las operaciones\n",
        "\n",
        "  wSize = 32 #Tamaño de la ventana\n",
        "\n",
        "  imagenes = []\n",
        "  for nombreImagen in os.listdir(carpetaImagenes):\n",
        "    if nombreImagen.endswith(('.jpg', '.jpeg', '.png')): #Filtrar archivos que terminen con .jpg, .jpeg, .png\n",
        "      imagenes.append(nombreImagen) #Agregar imagenes a la lista\n",
        "\n",
        "  templates = []\n",
        "  for nombreImagen in os.listdir(carpetaTemplates):\n",
        "    if nombreImagen.endswith(('.jpg', '.jpeg', '.png')): #Filtrar archivos que terminen con .jpg, .jpeg, .png\n",
        "      rutaTemplate = os.path.join(carpetaTemplates, nombreImagen) #Definir la ruta de cada plantilla en la carpeta de origen\n",
        "      templateImagen = cv2.imread(rutaTemplate) #Leer plantillas\n",
        "      templateImagen = cv2.cvtColor(templateImagen, cv2.COLOR_BGR2GRAY) #Convertir plantillas a escala de grises\n",
        "      nombreTemplate = nombreImagen.split(\"_\")[0] #Obtener la clase de la plantilla\n",
        "      templates.append((templateImagen, nombreTemplate)) #Agregar templates a la lista\n",
        "\n",
        "  clasificacionTareas = []\n",
        "  for nombreImagen in imagenes:\n",
        "    clasificacionTareas.append((carpetaImagenes, nombreImagen, templates, wSize)) #Agregar clasificacionTareas a la lista\n",
        "\n",
        "  #Procesamiento en paralelo usando un pool de 4 procesos\n",
        "  with Pool(processes=4) as pool:\n",
        "    resultados = pool.starmap(procesarImagen, clasificacionTareas)\n",
        "\n",
        "  correcto = []\n",
        "  incorrecto = []\n",
        "\n",
        "  #Comparar clase inferida con la clase real\n",
        "  for resultado in resultados:\n",
        "    if resultado[1] == resultado[2]: #Si la clase inferida es la misma que la real:\n",
        "      correcto.append(resultado) #Agregar resultado a la lista de resultados correctos\n",
        "    else: #Si la clase inferida es diferente de la real:\n",
        "      incorrecto.append(resultado) #Agregar resultado a la lista de resultados incorrectos\n",
        "\n",
        "  errores = (len(incorrecto) / len(resultados)) * 100 #Calcular porcentaje de errores\n",
        "  print(f\"Error de clasificación de: {errores: .2f}%\") #Imprimir en pantalla el procentaje de errores\n",
        "\n",
        "  print(\"Ejemplos correctos: \")\n",
        "  #Imprimir en pantalla dos ejemplos correctos\n",
        "  for i in range(min(2, len(correcto))):\n",
        "    print(f\"Clase real: {correcto[i][1]} - Clase inferida: {correcto[i][2]}\")\n",
        "\n",
        "  print( \"Ejemplos incorrectos: \")\n",
        "  #Imprimir en pantalla dos ejemplos incorrectos\n",
        "  for i in range(min(2, len(incorrecto))):\n",
        "    print(f\"Clase real: {incorrecto[i][1]} - Clase inferida: {correcto[i][2]}\")\n",
        "\n",
        "  end = timer() #Terminar tiempo\n",
        "  print(f\"Tiempo de procesamiento: {(end - start)/60} minutos\") #Imprimir en pantalla el tiempo de procesamiento\n",
        "\n",
        "if __name__ == '__main__':\n",
        "  main4()\n"
      ],
      "metadata": {
        "id": "v3Ay9tTxTfmz",
        "colab": {
          "base_uri": "https://localhost:8080/"
        },
        "outputId": "2b4b9583-5b91-45ab-8f95-04ddc2f89dd4"
      },
      "id": "v3Ay9tTxTfmz",
      "execution_count": 78,
      "outputs": [
        {
          "output_type": "stream",
          "name": "stdout",
          "text": [
            "Error de clasificación de:  38.14%\n",
            "Ejemplos correctos: \n",
            "Clase real: circ - Clase inferida: circ\n",
            "Clase real: circ - Clase inferida: circ\n",
            "Ejemplos incorrectos: \n",
            "Clase real: box - Clase inferida: circ\n",
            "Clase real: box - Clase inferida: circ\n",
            "Tiempo de procesamiento: 2.0959767028666647 minutos\n"
          ]
        }
      ]
    }
  ],
  "metadata": {
    "kernelspec": {
      "display_name": "Python 3 (ipykernel)",
      "language": "python",
      "name": "python3"
    },
    "language_info": {
      "codemirror_mode": {
        "name": "ipython",
        "version": 3
      },
      "file_extension": ".py",
      "mimetype": "text/x-python",
      "name": "python",
      "nbconvert_exporter": "python",
      "pygments_lexer": "ipython3",
      "version": "3.10.12"
    },
    "colab": {
      "provenance": [],
      "include_colab_link": true
    }
  },
  "nbformat": 4,
  "nbformat_minor": 5
}