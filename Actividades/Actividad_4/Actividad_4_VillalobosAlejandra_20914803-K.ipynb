{
  "cells": [
    {
      "cell_type": "markdown",
      "metadata": {
        "id": "view-in-github",
        "colab_type": "text"
      },
      "source": [
        "<a href=\"https://colab.research.google.com/github/aerimili/EIE401-1-Multimedia/blob/main/Actividades/Actividad_4/Actividad_4_VillalobosAlejandra_20914803-K.ipynb\" target=\"_parent\"><img src=\"https://colab.research.google.com/assets/colab-badge.svg\" alt=\"Open In Colab\"/></a>"
      ]
    },
    {
      "cell_type": "markdown",
      "id": "0a22500b-75f6-4e9e-bff8-e2166e04bd6a",
      "metadata": {
        "id": "0a22500b-75f6-4e9e-bff8-e2166e04bd6a"
      },
      "source": [
        "<h1><center>\n",
        "\n",
        "</center></h1>\n",
        "<font size=\"6\"><center>\n",
        "EIE 401\n",
        "PROCESAMIENTO DIGITAL MULTIMEDIA\n",
        "</center></font>"
      ]
    },
    {
      "cell_type": "markdown",
      "id": "4bb821ab-49e9-40ef-8ecd-d491bba9452c",
      "metadata": {
        "id": "4bb821ab-49e9-40ef-8ecd-d491bba9452c"
      },
      "source": [
        "\n",
        "<center><h2>Actividad 4</h2></center>\n",
        "<center><h3>Audio</h3></center>\n",
        "<center><h3>Profesor: Jorge Cardenas</h3></center>\n",
        "\n",
        "<center><h3>Por: Alejandra Villalobos</h3></center>\n",
        "<center><h5>Pontificia Universidad Catolica de Valparaiso</h5></center>\n"
      ]
    },
    {
      "cell_type": "markdown",
      "id": "3e467e9a",
      "metadata": {
        "id": "3e467e9a"
      },
      "source": [
        "## 1. Realiza la operación de convolución\n",
        "\n",
        "<p align=\"justify\">\n",
        "Una de las operaciones más comunes en tratamiento de imagenes, video etc, es la convolución. Comienza por realizar una convolución entre una señal Pulso y una función impulso filtrada.\n",
        "\n",
        "\n",
        "<center><img src=\"../../assets/scipy-signal-convolution.png\"/></center>\n"
      ]
    },
    {
      "cell_type": "markdown",
      "id": "dd6609ed",
      "metadata": {
        "id": "dd6609ed"
      },
      "source": []
    },
    {
      "cell_type": "code",
      "execution_count": 3,
      "id": "30dc5084",
      "metadata": {
        "id": "30dc5084"
      },
      "outputs": [],
      "source": [
        "import numpy as np\n",
        "import matplotlib.pyplot as plt\n",
        "from scipy import signal"
      ]
    },
    {
      "cell_type": "code",
      "source": [
        "#Generación de señal rectangular.\n",
        "sig = np.repeat([0., 1., 0.], 100)\n",
        "\n",
        "#Generación de ventana de Hann.\n",
        "win = signal.windows.hann(50)"
      ],
      "metadata": {
        "id": "oiuSo49GU8nY"
      },
      "id": "oiuSo49GU8nY",
      "execution_count": null,
      "outputs": []
    },
    {
      "cell_type": "code",
      "source": [
        "def convolucion(signal1, signal2):\n",
        "  \"\"\"\n",
        "  Realiza la convolución entre dos señales.\n",
        "\n",
        "  Parámetros:\n",
        "  signal1: Primera señal.\n",
        "  signal2: Segunda señal.\n",
        "  \"\"\"\n",
        "  #Lista de ceros para guardar los resultados.\n",
        "  conv = (len(signal1) - len(signal2) + 1)*[0]\n",
        "\n",
        "\n",
        "  for l in range(len(conv)):\n",
        "\n",
        "    #Realiza la suma de las señales en la posición actual.\n",
        "    for i in range(len(signal2)):\n",
        "      conv[l] += signal1[l + i] * signal2[i]\n",
        "\n",
        "  return conv\n",
        "\n",
        "#Convolución entre las dos señales sig y win.\n",
        "convolution = convolucion(sig, win)"
      ],
      "metadata": {
        "id": "5lZeeI2vVBIo"
      },
      "id": "5lZeeI2vVBIo",
      "execution_count": null,
      "outputs": []
    },
    {
      "cell_type": "code",
      "source": [
        "#Gráfica de señal rectangular, ventana de Hann y la convolución de estas.\n",
        "plt.figure(figsize = (14,7))\n",
        "plt.subplot(3,1,1)\n",
        "plt.plot(sig)\n",
        "plt.title(\"Señal rectangular\")\n",
        "plt.ylabel(\"Amplitud\")\n",
        "\n",
        "plt.subplot(3,1,2)\n",
        "plt.plot(np.linspace(0, 300, 50), win)\n",
        "plt.title(\"Ventana de Hann\")\n",
        "plt.ylabel(\"Amplitud\")\n",
        "\n",
        "plt.subplot(3,1,3)\n",
        "plt.plot(convolution)\n",
        "plt.title(\"Convolución de señal rectangular y ventana de Hann\")\n",
        "plt.xlabel(\"Índice de muestra\")\n",
        "plt.ylabel(\"Amplitud\")"
      ],
      "metadata": {
        "id": "DHcTITsVfx4U"
      },
      "id": "DHcTITsVfx4U",
      "execution_count": null,
      "outputs": []
    },
    {
      "cell_type": "markdown",
      "id": "28a477da",
      "metadata": {
        "id": "28a477da"
      },
      "source": [
        "## 2. Cancelación de Ruido (Denoising)\n",
        "<p align=\"justify\">\n",
        "Implementa un algoritmo para eliminar el ruido de una señal. Puedes apoyarte en esta referencia (https://www.youtube.com/watch?v=s2K1JfNR7Sc)\n",
        "\n",
        "1. Debes tener la señal original\n",
        "2. Debes agregar ruido a la señal\n",
        "3. Obtener el valor medio de la señal con ruido\n",
        "4. Implementar transformaciones y filtrado.\n",
        "    \n"
      ]
    },
    {
      "cell_type": "markdown",
      "id": "129f5a57",
      "metadata": {
        "id": "129f5a57"
      },
      "source": []
    },
    {
      "cell_type": "code",
      "execution_count": null,
      "id": "85a2f5e4",
      "metadata": {
        "id": "85a2f5e4"
      },
      "outputs": [],
      "source": [
        "#Frecuencia de seno en Hz.\n",
        "f1 = 20\n",
        "\n",
        "#Frecuencia de coseno en Hz.\n",
        "f2 = 55\n",
        "\n",
        "t_inicio = -1\n",
        "t_final = 1\n",
        "\n",
        "#Frecuencia de muestreo.\n",
        "fs = 1000\n",
        "\n",
        "#Creación vector tiempo.\n",
        "t = np.linspace(t_inicio, t_final, fs)\n",
        "\n",
        "#Señal original.\n",
        "señal = np.sin(2*np.pi*f1*t) + np.cos(2*np.pi*f2*t)"
      ]
    },
    {
      "cell_type": "code",
      "source": [
        "#Creación de ruido Gaussiano.\n",
        "ruido = np.random.normal(0, 1, len(señal))\n",
        "\n",
        "#Señal con ruido agregado.\n",
        "señal_ruido = señal + ruido"
      ],
      "metadata": {
        "id": "3MrUcHrsMfo2"
      },
      "id": "3MrUcHrsMfo2",
      "execution_count": null,
      "outputs": []
    },
    {
      "cell_type": "code",
      "source": [
        "#Gráficas de señal original y señal con ruido.\n",
        "plt.figure(figsize = (15,5))\n",
        "plt.subplot(121)\n",
        "plt.plot(t, señal)\n",
        "plt.title(\"Señal original\")\n",
        "plt.xlabel(\"Tiempo[s]\")\n",
        "plt.ylabel(\"Amplitud[V]\")\n",
        "\n",
        "plt.subplot(122)\n",
        "plt.plot(t, señal_ruido)\n",
        "plt.title(\"Señal con ruido\")\n",
        "plt.xlabel(\"Tiempo[s]\")\n",
        "plt.ylabel(\"Amplitud[V]\")"
      ],
      "metadata": {
        "id": "ULNB-28hNE63"
      },
      "id": "ULNB-28hNE63",
      "execution_count": null,
      "outputs": []
    },
    {
      "cell_type": "code",
      "execution_count": null,
      "id": "686dc60e",
      "metadata": {
        "id": "686dc60e"
      },
      "outputs": [],
      "source": [
        "def fft(x):\n",
        "  \"\"\"\n",
        "  Calcula la transformada de Fourier de una señal.\n",
        "\n",
        "  Parámetros:\n",
        "  x: Secuencia de datos de la señal.\n",
        "  \"\"\"\n",
        "  #Número de muestras.\n",
        "  N = len(x)\n",
        "\n",
        "  #Vector salida.\n",
        "  X = np.zeros(N, dtype = complex)\n",
        "\n",
        "  #Calcula la transformada de Fourier para cada frecuencia.\n",
        "  for k in range(N):\n",
        "    for n in range(N):\n",
        "      #Fórmula de transformada de Fourier.\n",
        "      X[k] += x[n] * np.exp(-2j *np.pi * k * n/N)\n",
        "\n",
        "  return X\n",
        "\n",
        "#Calculo de transformafa de fourier de la señal con ruido.\n",
        "tf = fft(señal_ruido)\n",
        "\n",
        "n = len(t)\n",
        "\n",
        "#Cálculo de la densidad espectral de potencia.\n",
        "dep = tf * np.conj(tf) / n\n",
        "\n",
        "#Vector de frecuencias.\n",
        "freq = (1/fs*n) * np.arange(n)\n",
        "L = np.arange(1, np.floor(n/2), dtype = \"int\")"
      ]
    },
    {
      "cell_type": "code",
      "source": [
        "#Gráfica de comparación entre señal original, con ruido y su densidad espectral de potencia.\n",
        "plt.figure(figsize = (18,6))\n",
        "plt.subplot(121)\n",
        "plt.plot(señal_ruido, label = \"ruido\")\n",
        "plt.plot(señal, label = \"original\")\n",
        "plt.title(\"Señal original v/s se al con ruido\")\n",
        "plt.xlabel(\"Tiempo[s]\")\n",
        "plt.ylabel(\"Amplitud[V]\")\n",
        "plt.legend()\n",
        "\n",
        "plt.subplot(122)\n",
        "plt.plot(freq[L], dep[L], color = \"purple\")\n",
        "plt.title(\"Densidad espectral de potencia \")\n",
        "plt.xlabel(\"Frecuencias[Hz]\")\n",
        "plt.ylabel(\"Potencia\")\n"
      ],
      "metadata": {
        "id": "bMWWMvpmRDaV"
      },
      "id": "bMWWMvpmRDaV",
      "execution_count": null,
      "outputs": []
    },
    {
      "cell_type": "code",
      "source": [
        "#Encuentra todos los valores de dep mayores a 100.\n",
        "indices = dep > 100\n",
        "\n",
        "#Vuelve 0 los valores de dep menores que 100.\n",
        "psd_clean = dep*indices\n",
        "tf = indices*tf\n",
        "\n",
        "def ifft(x):\n",
        "  \"\"\"\n",
        "  Calcula la transformada de Fourier inversa de una señal\n",
        "\n",
        "  Parámetros:\n",
        "  x: Transformada de Fourier de una señal\n",
        "  \"\"\"\n",
        "\n",
        "  #Número de muestras.\n",
        "  N = len(x)\n",
        "\n",
        "  #Vector salida\n",
        "  X = np.zeros(N, dtype = complex)\n",
        "\n",
        "  #Calcula la transformada de Fourier inversa para cada frecuencia.\n",
        "  for k in range(N):\n",
        "    for n in range(N):\n",
        "      #Fórmula de transformada de Fourier inversa.\n",
        "      X[k] += x[n] * np.exp(2j *np.pi * k * n/N)\n",
        "\n",
        "  return X/N\n",
        "\n",
        "#Transformada de fourier inversa de la señal filtrada.\n",
        "tffilt = ifft(tf)"
      ],
      "metadata": {
        "id": "-H-Ip-m_XU1U"
      },
      "id": "-H-Ip-m_XU1U",
      "execution_count": null,
      "outputs": []
    },
    {
      "cell_type": "code",
      "source": [
        "#Gráfica de la señal filtrada.\n",
        "plt.figure(figsize = (8,5))\n",
        "plt.plot(t, tffilt)\n",
        "plt.title(\"Señal filtrada\")\n",
        "plt.xlabel(\"Tiempo[s]\")\n",
        "plt.ylabel(\"Amplitud[s]\")"
      ],
      "metadata": {
        "id": "-7_3fn52cNlt"
      },
      "id": "-7_3fn52cNlt",
      "execution_count": null,
      "outputs": []
    },
    {
      "cell_type": "markdown",
      "id": "ada9a74e",
      "metadata": {
        "id": "ada9a74e"
      },
      "source": []
    },
    {
      "cell_type": "markdown",
      "id": "e577f596",
      "metadata": {
        "id": "e577f596"
      },
      "source": [
        "## 3. Wavelets\n",
        "### 3.1 Desarrolla una transformada wavelet 1D\n",
        "<p align=\"justify\">\n",
        "Implementa transformaciones con 1-D wavelet usando la función Mexican Hat Wavelet.\n",
        "\n",
        "$$m(x) = \\frac{2}{\\sqrt{3 \\sigma} \\pi^{\\frac{1}{4}}} \\left(1-\\frac{x^2}{\\sigma^2}\\right) e^{\\frac{-x^2}{2 \\sigma^2}}$$"
      ]
    },
    {
      "cell_type": "code",
      "execution_count": 2,
      "id": "041406f7",
      "metadata": {
        "id": "041406f7"
      },
      "outputs": [],
      "source": [
        "import numpy as np\n",
        "import matplotlib.pyplot as plt\n",
        "\n",
        "def mexican_hat(x, mu, sigma):\n",
        "  \"\"\"\n",
        "  Calcula el wavelet \"mexican hat\".\n",
        "\n",
        "  Parámetros:\n",
        "  x: Vector donde se evalúa la función.\n",
        "  mu: Media.\n",
        "  sigma: Desviación estándar.\n",
        "  \"\"\"\n",
        "  #Calcula la funcion Mexican Hat.\n",
        "  mex_hat = (2/(np.sqrt(3*sigma)*pow(np.pi,1/4)))*np.exp(-x**2/(2*sigma**2))*(1-(x**2/sigma**2))\n",
        "  return mex_hat\n",
        "\n",
        "#Creación vector tiempo\n",
        "x = np.linspace(-5,5,100)\n",
        "\n",
        "#Creación de wavelet mexican hat con media 0 y desviación estándar 1.\n",
        "wavelet = mexican_hat(x, 0, 1)"
      ]
    },
    {
      "cell_type": "code",
      "source": [
        "#Gráfica del Mexican hat wavelet.\n",
        "plt.plot(x, wavelet)\n",
        "plt.title(\"Mexican hat wavelet\")\n",
        "plt.xlabel(\"Tiempo\")\n",
        "plt.ylabel(\"Amplitud\")"
      ],
      "metadata": {
        "id": "TDbVZvFMhdDd"
      },
      "id": "TDbVZvFMhdDd",
      "execution_count": null,
      "outputs": []
    },
    {
      "cell_type": "markdown",
      "id": "12bd04aa",
      "metadata": {
        "id": "12bd04aa"
      },
      "source": [
        "### 3.2 Escribe un algoritmo para calcular la transformada discreta\n",
        "<p align=\"justify\">\n",
        "En cierta forma se trata solo de aplicar al sumatoria sobre una señal que tengas (obviamente debes definir una señal de estudio, con ruido o que tenga varías frecuencias involucradas).\n",
        "\n",
        "Debes hacerlo solo para un nivel (level). Recuerda que la transformada trabaja por niveles y puede ser dispendioso. En este caso de debe considerar que $$a_0=2$$ y $$b_0=1$$, así como también debe asumir un valor específico para _m_.\n",
        "\n",
        "En teoría, la transformada es como sigue:\n",
        "\n",
        "$$ (T^{\\text{wav}} f)(a,b) = \\sqrt{|a|} \\int dt \\; f(t) \\psi \\left(\\frac{t-b}{a}\\right) $$\n",
        "\n",
        "$a = a_0^m$ and $b = n b_0 a_0^m$\n",
        "\n",
        "Aquí a y b son parámetros para la escala y posición de la wavelet. Esto se puede escribir de forma discreta de tal forma que puedas asignar una posición y escala a la onda asignando los valores que quieres, pero en este caso usarás $$a_0=2$$ y $$b_0=1$$.\n",
        "\n",
        "$$ (T^{\\text{wav}} f)(a,b) = T^\\text{wav}_{m,n}(f) = \\int dt \\; f(t) \\psi_{m,n} (x) $$\n",
        "con\n",
        "$$ \\psi_{m,n} = a_0^{\\frac{-m}{2}} \\psi\\left(a_0^{-m}x - nb_0\\right) $$\n",
        "\n",
        "### Recuerda que la integral se convierte en una sumatoria."
      ]
    },
    {
      "cell_type": "code",
      "source": [
        "a0 = 2\n",
        "b0 = 1\n",
        "m = 1\n",
        "t = np.linspace(-1,1,1000) #Creación vector tiempo.\n",
        "original = np.sin(2*np.pi*f1*t) #Señal original.\n",
        "ruido = np.random.normal(0, 1, len(original)) #Creación de ruido gaussiano.\n",
        "señal_estudio = original + ruido #Señal de estudio con ruido.\n",
        "\n",
        "def transformada_w(signal, a0, b0, m):\n",
        "  \"\"\"\n",
        "  Calcula la transformada discreta de wavelet.\n",
        "\n",
        "  Parámetros:\n",
        "  signal: Señal a realizar la transformada.\n",
        "  a0: Parámetro a0.\n",
        "  b0: Parámetro b0.\n",
        "  m: Nivel específico.\n",
        "  \"\"\"\n",
        "  transformada_discreta = np.zeros_like(signal) #Creación de vector de ceros con tamaño de la señal.\n",
        "\n",
        "  for n in range(len(signal)):\n",
        "    for i, x in enumerate(t): #Se itera sobre los índices y valores de la señal.\n",
        "\n",
        "      #Calcula la transformada discreta de wavelet.\n",
        "      transformada_discreta += signal[i] * a0*(-m/2) * mexican_hat(a0**(-m)*x - m*b0, 0, 1)\n",
        "\n",
        "      return transformada_discreta\n",
        "\n",
        "td = transformada_w(señal_estudio, a0, b0, m) #Calcula la transformada discreta de wavelet a la señal de estudio.\n"
      ],
      "metadata": {
        "id": "nXhvj4rEa1tZ"
      },
      "id": "nXhvj4rEa1tZ",
      "execution_count": null,
      "outputs": []
    },
    {
      "cell_type": "markdown",
      "id": "e667d4f2",
      "metadata": {
        "id": "e667d4f2"
      },
      "source": [
        "###  3.2.1. Explica el siguiente fragmento de código en detalle"
      ]
    },
    {
      "cell_type": "code",
      "execution_count": null,
      "id": "d0b43ce8",
      "metadata": {
        "id": "d0b43ce8"
      },
      "outputs": [],
      "source": [
        "# we assume a0 = 2 and b0 = 1\n",
        "# These are the scaling and translation factors\n",
        "#using just o pair, means an specific wavelet\n",
        "\n",
        "def psi_mn(psi, m, n): #recibe el wavelet\n",
        "  \"\"\"\n",
        "  Calcula el valor de la función gaussiana.\n",
        "\n",
        "  Parámetros:\n",
        "  psi: Wavelet.\n",
        "  m: Factor de escala.\n",
        "  n: Factor de traslación.\n",
        "  \"\"\"\n",
        "\n",
        "  #Cálculo de valores de escala y traslación\n",
        "  a = 2**m\n",
        "  b = n*2**m\n",
        "  #Arreglo de ceros\n",
        "  wav = np.zeros(len(psi)*a + b)  #se esta desplazando la señal y se va achicando y agrandando\n",
        "  #Interpolación\n",
        "  wav[b:b+len(psi)*a] = np.interp(np.arange(len(psi)*a)/a,np.arange(len(psi)),psi)\n",
        "\n",
        "  return wav\n",
        "\n",
        "#Define el wavelet como la función mexican_hat creada anteriormente\n",
        "psi = mexican_hat(np.arange(-5,5,0.1),0,1)\n",
        "xlim = (0,350)\n",
        "#Creación de listas con distintos factores de escalación y traslación\n",
        "ns = [1, 30, 60]\n",
        "ms = [0, 1]\n",
        "plt.figure(figsize=(15,4))\n",
        "plt.subplot(121)\n",
        "\n",
        "#Generación de gráficas para distintos numeros de escalación y traslación\n",
        "for mi in range(len(ms)):\n",
        "    m = ms[mi]\n",
        "    plt.subplot(1,len(ms),mi+1)\n",
        "    for n in ns:\n",
        "        plt.plot(psi_mn(psi, m, n), label=\"n=\"+str(n))\n",
        "    plt.title(\"m = \"+str(m))\n",
        "    plt.legend(loc=\"best\")\n",
        "    plt.xlim(xlim)\n",
        "plt.show()"
      ]
    },
    {
      "cell_type": "markdown",
      "source": [
        "El código proporcionado implementa una función llamada psi_mn, que se encarga de generar una versión escalada y desplazada de un wavelet dado. En el contexto de la función, el parámetro 'm' controla la dilatación del wavelet, mientras que el parámetro 'n' regula su traslación a lo largo del eje x. Es evidente en los gráficos generados que, para un mismo valor de 'n', el efecto de traslación aumenta conforme 'm' incrementa, manteniendo la proporción en relación al tamaño del wavelet. Esto sugiere que el parámetro $b_0$, establecido en 1 en el código, en realidad controla el grado de traslape entre dos wavelets adyacentes."
      ],
      "metadata": {
        "id": "yvjtnGSDiX-F"
      },
      "id": "yvjtnGSDiX-F"
    },
    {
      "cell_type": "markdown",
      "id": "89ecd445",
      "metadata": {
        "id": "89ecd445"
      },
      "source": [
        "### 3.2.2 completa el siguiente código para realizar la transformada\n"
      ]
    },
    {
      "cell_type": "code",
      "execution_count": null,
      "id": "5ff41bc8",
      "metadata": {
        "id": "5ff41bc8"
      },
      "outputs": [],
      "source": [
        "\"\"\"Transformed considering the sum over the section under study\"\"\"\n",
        "def twav_mn(f, psi, m, n):\n",
        "    f_scaled = f[::2**m]\n",
        "    transform_scaled = 2**(m/2.0) * np.sum(f_scaled[n:n+len(psi)] * psi)\n",
        "    return transform_scaled\n",
        "\"\"\"Naive Transform adding over the whole length\"\"\"\n",
        "\n",
        "def twav_mn_naive(f, psi, m, n):\n",
        "    pmn = psi_mn(psi, m, n)\n",
        "    transform = 2**(-m/2.0) * np.sum(f[:len(pmn)] * pmn)\n",
        "    return transform\n",
        "\n",
        "m = 3 #single value for m\n",
        "ns = np.arange(1000,1500)\n",
        "res=1000 #resolution\n",
        "freq=2 #frequency\n",
        "\"\"\"Creating a wave to analyse\"\"\"\n",
        "x = np.arange(0,15000,1) # Produces [0, 100) with steps of 2.\n",
        "noise = np.random.normal(0,2, len(x)) #  μ = 0, σ = 2, size = length of x or y. Choose μ and σ wisely.\n",
        "#adding noise\n",
        "audio=np.sin(np.arange(15000)*2*np.pi*freq/res)+noise\n",
        "\n",
        "\n",
        "transformed_sweept=[twav_mn(audio, psi, m, n) for n in ns]\n",
        "naive_transformed_sweept=[twav_mn_naive(audio, psi, m, n) for n in ns]\n",
        "\n",
        "plt.plot(np.arange(len(audio),dtype=\"float32\")/res,audio)\n",
        "plt.xlabel(\"t[s]\")\n",
        "plt.title(\"audio signal with overlaying sound waves\")\n",
        "plt.show()\n",
        "\n",
        "\n",
        "\n",
        "plt.plot(transformed_sweept,color=\"blue\", lw=6, alpha=0.3)\n",
        "plt.plot(naive_transformed_sweept, \"r-\")\n",
        "plt.show()"
      ]
    },
    {
      "cell_type": "markdown",
      "id": "97b02a36",
      "metadata": {
        "id": "97b02a36"
      },
      "source": [
        "### 3.2 Wavelet usando librería\n",
        "<p align=\"justify\">\n",
        "Usa la librería PyWavelets (pywt) con los datos provenientes del dataset  = \"http://paos.colorado.edu/research/wavelets/wave_idl/sst_nino3.dat\". Estos datos son históricos sobre el fenómeno del Niño.\n",
        "\n",
        "0. Debes descargar los datos desde python, usando numpy o pandas, debes aplicar la transformada continua pywt.cwt.\n",
        "\n",
        "1. Obtendrás los coeficientes de la transformación.\n",
        "2. Debes poner todos los resultados en términos de potencia.\n",
        "3. Debes graficar el resultado tanto en el periodo como en la frecuencia usando un plot tipo contour."
      ]
    },
    {
      "cell_type": "code",
      "execution_count": null,
      "id": "00e7d5ae",
      "metadata": {
        "id": "00e7d5ae",
        "colab": {
          "base_uri": "https://localhost:8080/"
        },
        "outputId": "a2f020ca-747b-4abc-bc06-8e1e48380e20"
      },
      "outputs": [
        {
          "output_type": "stream",
          "name": "stdout",
          "text": [
            "Requirement already satisfied: PyWavelets in /usr/local/lib/python3.10/dist-packages (1.6.0)\n",
            "Requirement already satisfied: numpy<3,>=1.22.4 in /usr/local/lib/python3.10/dist-packages (from PyWavelets) (1.25.2)\n"
          ]
        }
      ],
      "source": [
        "#Instalar librería PyWavelets en Google Colab\n",
        "!pip install PyWavelets"
      ]
    },
    {
      "cell_type": "code",
      "source": [
        "import pywt\n",
        "import pandas as pd\n",
        "\n",
        "link = \"http://paos.colorado.edu/research/wavelets/wave_idl/sst_nino3.dat\"\n",
        "\n",
        "#Lectura de datos en el enlace entregado.\n",
        "datos = pd.read_table(link)\n",
        "\n",
        "#Sacamos la serie de tiempo de los datos.\n",
        "signal = datos.values.squeeze()\n",
        "\n",
        "#Aplicación de la transformada continua a los datos, utilizando el wavelet mexican hat.\n",
        "coef, freqs = pywt.cwt(data=signal, scales = np.arange(1, 128), wavelet = \"mexh\")\n",
        "\n",
        "#Pasamos datos a términos de potencia.\n",
        "power = (abs(coef))**2"
      ],
      "metadata": {
        "id": "7f-we_o-V6nS"
      },
      "id": "7f-we_o-V6nS",
      "execution_count": 77,
      "outputs": []
    },
    {
      "cell_type": "code",
      "source": [
        "#Escalograma de la transformada continua.\n",
        "plt.figure(figsize=(10, 6))\n",
        "plt.contourf(np.arange(len(signal)), freqs, power, cmap='jet', levels=100)\n",
        "plt.colorbar(label='Potencia')\n",
        "plt.title('Transformada Continua de Wavelet (CWT)')\n",
        "plt.xlabel('Periodo')\n",
        "plt.ylabel('Frecuencia')"
      ],
      "metadata": {
        "id": "lqvzAOaqo1q8"
      },
      "id": "lqvzAOaqo1q8",
      "execution_count": null,
      "outputs": []
    },
    {
      "cell_type": "markdown",
      "id": "bc5c10e6",
      "metadata": {
        "id": "bc5c10e6"
      },
      "source": [
        "### 3.3 Interpreta los resultados del punto anterior.\n",
        "<p align=\"justify\">\n",
        "Debes explicar que significa el gráfico obtenido  en términos del periodo o frecuencia del evento que estamos analizando."
      ]
    },
    {
      "cell_type": "markdown",
      "source": [
        "El gráfico de contorno muestra la potencia de los coeficientes de la transformada de wavelet en diferentes periodos y frecuencias. El eje \"x\" representa el periodo de tiempo, mientras que el eje \"y\" representa la frecuencia. La barra de colores indica la potencia de los coeficientes, donde el rojo representa alta potencia y el azul representa baja potencia.\n",
        "\n",
        "El gráfico muestra que el fenómeno del Niño tiene una fuerte periodicidad de alrededor 5 años. Esto es evidente a partir de las bandas verticales de alta potencia que están espaciadas aproximadamente 5 años. El gráfico también muestra que el fenómeno del Niño tiene una amplia gama de frecuencias, siendo algunos períodos más dominantes que otros. Esto es evidente por el hecho de que las bandas de alta potencia no están espaciadas uniformemente.\n",
        "\n",
        "El gráfico se puede utilizar para identificar los períodos y frecuencias más asociados con el fenómeno del Niño. Esta información se puede utilizar para predecir ocurrencias futuras del fenómeno y mitigar sus efectos."
      ],
      "metadata": {
        "id": "cnfTPMUB9JN8"
      },
      "id": "cnfTPMUB9JN8"
    },
    {
      "cell_type": "markdown",
      "id": "3add46e0-f5e2-4a20-8830-3e795f78d2a0",
      "metadata": {
        "id": "3add46e0-f5e2-4a20-8830-3e795f78d2a0"
      },
      "source": [
        "\n",
        "## 4. Referencias\n",
        "<p align=\"justify\">\n",
        "\n",
        "https://notebook.community/CSchoel/learn-wavelets/wavelet-introduction\n",
        "\n",
        "https://www.kaggle.com/code/asauve/a-gentle-introduction-to-wavelet-for-data-analysis\n",
        "\n",
        "https://pywavelets.readthedocs.io/en/latest/ref/cwt.html\n",
        "\n",
        "[Análisis espectral para audio] https://ccrma.stanford.edu/~jos/mdft/mdft-python.html\n",
        "\n",
        "[Cancelación de ruido en datos] https://towardsdatascience.com/noise-cancellation-with-python-and-fourier-transform-97303314aa71\n",
        "\n",
        "[Convolución en Scipy]https://docs.scipy.org/doc/scipy/reference/generated/scipy.signal.convolve.html\n",
        "\n",
        "[Wavelet transform applications]https://scicoding.com/introduction-to-wavelet-transform-using-python/"
      ]
    }
  ],
  "metadata": {
    "kernelspec": {
      "display_name": "Python 3 (ipykernel)",
      "language": "python",
      "name": "python3"
    },
    "language_info": {
      "codemirror_mode": {
        "name": "ipython",
        "version": 3
      },
      "file_extension": ".py",
      "mimetype": "text/x-python",
      "name": "python",
      "nbconvert_exporter": "python",
      "pygments_lexer": "ipython3",
      "version": "3.10.12"
    },
    "colab": {
      "provenance": [],
      "include_colab_link": true
    }
  },
  "nbformat": 4,
  "nbformat_minor": 5
}