{
  "cells": [
    {
      "cell_type": "markdown",
      "metadata": {
        "id": "view-in-github",
        "colab_type": "text"
      },
      "source": [
        "<a href=\"https://colab.research.google.com/github/aerimili/EIE401-1-Multimedia/blob/main/Actividad_2_VillalobosAlejandra_20914803-K.ipynb\" target=\"_parent\"><img src=\"https://colab.research.google.com/assets/colab-badge.svg\" alt=\"Open In Colab\"/></a>"
      ]
    },
    {
      "cell_type": "markdown",
      "id": "0a22500b-75f6-4e9e-bff8-e2166e04bd6a",
      "metadata": {
        "id": "0a22500b-75f6-4e9e-bff8-e2166e04bd6a"
      },
      "source": [
        "<h1><center>\n",
        "\n",
        "</center></h1>\n",
        "<font size=\"6\"><center>\n",
        "EIE 401\n",
        "PROCESAMIENTO DIGITAL MULTIMEDIA\n",
        "</center></font>"
      ]
    },
    {
      "cell_type": "markdown",
      "id": "4bb821ab-49e9-40ef-8ecd-d491bba9452c",
      "metadata": {
        "id": "4bb821ab-49e9-40ef-8ecd-d491bba9452c"
      },
      "source": [
        "\n",
        "<center><h2>Actividad 2</h2></center>\n",
        "<center><h3>Fundamentos: Análisis espectral</h3></center>\n",
        "<center><h3>Profesor: Jorge Cardenas</h3></center>\n",
        "\n",
        "<center><h3>Por: Alejandra Villalobos</h3></center>\n",
        "<center><h5>Pontificia Universidad Catolica de Valparaiso</h5></center>\n"
      ]
    },
    {
      "cell_type": "markdown",
      "id": "caba8341",
      "metadata": {
        "id": "caba8341"
      },
      "source": [
        "## 1. Carga archivos y carga datos en python\n",
        "<p align=\"justify\">\n",
        "Una de las tareas más importantes es la de cargar archivos que incluyan datos para el procesamiento.\n",
        "\n",
        "<p align=\"justify\">\n",
        "Debes cargar los dos archivos en formato txt y CSV, adquirir los datos y presentarlos en graficos usando la librería Matplotlib\n",
        "    \n",
        "    "
      ]
    },
    {
      "cell_type": "code",
      "source": [
        "import numpy as np\n",
        "import matplotlib.pyplot as plt\n",
        "import csv\n",
        "import scipy"
      ],
      "metadata": {
        "id": "LcikB0t2eCU3"
      },
      "id": "LcikB0t2eCU3",
      "execution_count": 35,
      "outputs": []
    },
    {
      "cell_type": "code",
      "source": [
        "x_values = []\n",
        "\n",
        "tt = np.linspace(0,524288,524288)\n",
        "\n",
        "#Se abre el archivo txt\n",
        "with open(\"H-H1_GWOSC_16KHZ_R1-1268431079-32.txt\", \"r\") as fichero:\n",
        "\n",
        "  #Se saltan las primeras 3 lineas de información no relevantes\n",
        "  for _ in range(3):\n",
        "    next(fichero)\n",
        "\n",
        "  #Se guardan los valores de cada línea en un vector\n",
        "  for linea in fichero:\n",
        "    valores = linea.split()\n",
        "    x_values.append(float(valores[0]))"
      ],
      "metadata": {
        "id": "jYhi-uDbXGQ_"
      },
      "id": "jYhi-uDbXGQ_",
      "execution_count": 59,
      "outputs": []
    },
    {
      "cell_type": "code",
      "source": [
        "#Gráfica de datos en archivo txt\n",
        "plt.figure(figsize = (15,5))\n",
        "plt.plot(tt, x_values)\n",
        "plt.title(\"Datos de archivo txt\")\n",
        "plt.xlabel(\"Tiempo [s]\")\n",
        "plt.ylabel(\"Datos\")"
      ],
      "metadata": {
        "id": "LjHQmqZg4BYz"
      },
      "id": "LjHQmqZg4BYz",
      "execution_count": null,
      "outputs": []
    },
    {
      "cell_type": "code",
      "source": [
        "datos_frecuencia = []\n",
        "datos_absorbanceTE = []\n",
        "\n",
        "#Se abre el archivo csv\n",
        "with open(\"AbsorbanceTE_0-0.csv\", \"r\") as excel:\n",
        "\n",
        "  #Saltamos la primera fila de cada columna de información no relevante\n",
        "  lector = csv.reader(excel)\n",
        "  next(lector)\n",
        "\n",
        "  #Se guardan los datos de cada columna en vectores distintos\n",
        "  for fila in lector:\n",
        "    frecuencia = float(fila[0])\n",
        "    absorbanceTE = float(fila[1])\n",
        "\n",
        "    datos_frecuencia.append(frecuencia)\n",
        "    datos_absorbanceTE.append(absorbanceTE)"
      ],
      "metadata": {
        "id": "jFXLRO4WpNzr"
      },
      "id": "jFXLRO4WpNzr",
      "execution_count": 61,
      "outputs": []
    },
    {
      "cell_type": "code",
      "source": [
        "#Gráfica se datos de archivo csv frecuencia v/s absorbanceTE\n",
        "plt.figure(figsize = (15,5))\n",
        "plt.plot(datos_frecuencia, datos_absorbanceTE)\n",
        "plt.title(\"Datos de archivo csv\")\n",
        "plt.xlabel(\"Frecuencia [GHz]\")\n",
        "plt.ylabel(\"AbsorbanceTE\")"
      ],
      "metadata": {
        "id": "s4K6eLMU4inu"
      },
      "id": "s4K6eLMU4inu",
      "execution_count": null,
      "outputs": []
    },
    {
      "cell_type": "markdown",
      "id": "09408813",
      "metadata": {
        "id": "09408813"
      },
      "source": [
        "## 2. Señal\n",
        "<p align=\"justify\">\n",
        "Crea una señal continua (la suma de dos senoidales/cosenoidales, exponenciales) que utilizaras para las demostraciones siguientes. Presenta la función que usaste en una gráfica de tal forma que la ecuación esté incluida en dicha gráfica.\n",
        "\n",
        "Incluye la ecuación en una celda de tu notebook usando LATEX.\n"
      ]
    },
    {
      "cell_type": "markdown",
      "source": [
        "###La señal que se utilizará es la siguiente:\n",
        "\n",
        "$$f(t) = sin(2·pi·frec1·t) + sin(2·pi·frec2·t)$$"
      ],
      "metadata": {
        "id": "9lf9TlJahQMr"
      },
      "id": "9lf9TlJahQMr"
    },
    {
      "cell_type": "code",
      "source": [
        "frec1 = 10 #Hz\n",
        "frec2 = 18 #Hz\n",
        "\n",
        "#Creación de vector tiempo\n",
        "tiempo = np.arange(0, 1, 0.001)\n",
        "seno1 = np.sin(2*np.pi*frec1*tiempo)\n",
        "seno2 = np.sin(2*np.pi*frec2*tiempo)\n",
        "\n",
        "#Señal con suma de senos de distintas frecuencias\n",
        "suma_señales = seno1 + seno2"
      ],
      "metadata": {
        "id": "4ew1QLeZfROY"
      },
      "id": "4ew1QLeZfROY",
      "execution_count": 63,
      "outputs": []
    },
    {
      "cell_type": "code",
      "source": [
        "#Gráfica de la señal original\n",
        "plt.figure(figsize=(15,5))\n",
        "plt.plot(tiempo,suma_señales)\n",
        "plt.title(\"Señal original\")\n",
        "plt.xlabel(\"Tiempo [s]\")\n",
        "plt.ylabel(\"Amplitud [V]\")"
      ],
      "metadata": {
        "id": "70dC6LE9hj02"
      },
      "id": "70dC6LE9hj02",
      "execution_count": null,
      "outputs": []
    },
    {
      "cell_type": "markdown",
      "id": "b9e396eb-7409-47d6-a42a-1af7f8ec049f",
      "metadata": {
        "tags": [],
        "id": "b9e396eb-7409-47d6-a42a-1af7f8ec049f"
      },
      "source": [
        "## 3. Sampleo\n",
        "<p align=\"justify\">\n",
        "En este punto debes comprobar como se da la operación de sampleo y que sucede ante cambios en el intervalo de sampleo.    \n"
      ]
    },
    {
      "cell_type": "markdown",
      "id": "b00e9d64",
      "metadata": {
        "id": "b00e9d64"
      },
      "source": [
        "### 3.1 Crea una señal impulso (delta) y desplazala\n",
        "Para esto puedes usar alguna librería de python"
      ]
    },
    {
      "cell_type": "code",
      "execution_count": 65,
      "id": "1b0084c9",
      "metadata": {
        "id": "1b0084c9"
      },
      "outputs": [],
      "source": [
        "#Creación de vector tiempo\n",
        "t = np.linspace(-1, 1, 1000)\n",
        "\n",
        "#Creación de impulso desplazado\n",
        "impulso = scipy.signal.unit_impulse(len(t), \"mid\")"
      ]
    },
    {
      "cell_type": "markdown",
      "id": "5dbf2458-b85a-4524-ab91-1462fef0cab2",
      "metadata": {
        "id": "5dbf2458-b85a-4524-ab91-1462fef0cab2"
      },
      "source": [
        "### 3.2 Genere una señal Senoidal y realice la operación de sampleo\n",
        "Puedes utilizar el método \"stem\" de matplotlib para plotear el resultado."
      ]
    },
    {
      "cell_type": "code",
      "execution_count": 66,
      "id": "28f30a1c",
      "metadata": {
        "id": "28f30a1c"
      },
      "outputs": [],
      "source": [
        "f = 5 #Hz\n",
        "\n",
        "#Señal senoidal original\n",
        "senoidal = np.sin(2*np.pi*f*t)\n",
        "\n",
        "#Frecuencia y periodo de sampleo\n",
        "fs = 20\n",
        "Ts = 1/fs\n",
        "\n",
        "#Creación de tren de pulsos\n",
        "tren_pulsos = np.arange(-1, 1, Ts)\n",
        "\n",
        "#Señal senoidal muestreada\n",
        "senoidal_muestreada = np.sin(2*np.pi*f*tren_pulsos)"
      ]
    },
    {
      "cell_type": "code",
      "source": [
        "#Gráfica de señal senoidal y señal senoidal muestreada\n",
        "plt.figure(figsize=(15,5))\n",
        "plt.plot(t, senoidal, label = \"original\")\n",
        "plt.stem(tren_pulsos, senoidal_muestreada, \"r\", label = \"muestreada\" )\n",
        "plt.legend(['Señal senoidal original', 'Señal senoidal muestreada'], loc=\"upper right\")\n",
        "plt.title(\"Señal senoidal original v/s señal senoidal muestreada\")\n",
        "plt.xlabel(\"Tiempo [s]\")\n",
        "plt.ylabel(\"Amplitud [V]\")"
      ],
      "metadata": {
        "id": "Cg6Z3htSrIfs"
      },
      "id": "Cg6Z3htSrIfs",
      "execution_count": null,
      "outputs": []
    },
    {
      "cell_type": "markdown",
      "id": "0f0dfd79",
      "metadata": {
        "id": "0f0dfd79"
      },
      "source": [
        "### 3.3 Genere una señal Triangular y realice la operación de sampleo"
      ]
    },
    {
      "cell_type": "code",
      "execution_count": 68,
      "id": "087476d2",
      "metadata": {
        "id": "087476d2"
      },
      "outputs": [],
      "source": [
        "#Señal triangular original\n",
        "triangular = scipy.signal.sawtooth(2*np.pi*f*t, 0.5)"
      ]
    },
    {
      "cell_type": "code",
      "source": [
        "#Señal triangular muestreada\n",
        "triangular_muestreada = scipy.signal.sawtooth(2*np.pi*f*tren_pulsos, 0.5)"
      ],
      "metadata": {
        "id": "6zAYhoQFPze3"
      },
      "id": "6zAYhoQFPze3",
      "execution_count": 69,
      "outputs": []
    },
    {
      "cell_type": "code",
      "source": [
        "#Gráfica de señal triangular original y señal triangular muestreada\n",
        "plt.figure(figsize=(15,5))\n",
        "plt.plot(t, triangular, label = \"original\")\n",
        "plt.stem(tren_pulsos, triangular_muestreada, \"r\", label = \"muestreada\")\n",
        "plt.legend(['Señal triangular original', 'Señal triangular muestreada'], loc=\"upper right\")\n",
        "plt.title(\"Señal triangular original v/s señal triangular muestreada\")\n",
        "plt.xlabel(\"Tiempo [s]\")\n",
        "plt.ylabel(\"Amplitud [V]\")"
      ],
      "metadata": {
        "id": "_s0HLSMiueRH"
      },
      "id": "_s0HLSMiueRH",
      "execution_count": null,
      "outputs": []
    },
    {
      "cell_type": "markdown",
      "id": "6e8fc991",
      "metadata": {
        "id": "6e8fc991"
      },
      "source": [
        "### 3.4 Realice la operación de sampleo sobre la señal que generaste en el punto 2"
      ]
    },
    {
      "cell_type": "code",
      "execution_count": 71,
      "id": "24e22008-2862-43e8-9219-d5920ee37fff",
      "metadata": {
        "id": "24e22008-2862-43e8-9219-d5920ee37fff"
      },
      "outputs": [],
      "source": [
        "#Frecuencia y periodo de sampleo\n",
        "fs2 = 40\n",
        "Ts2 = 1/fs2\n",
        "\n",
        "#Creación de tren de pulsos\n",
        "tren_pulsos2 = np.arange(0, 1, Ts2)\n",
        "\n",
        "seno1_muestreada = np.sin(2*np.pi*frec1*tren_pulsos2)\n",
        "seno2_muestreada = np.sin(2*np.pi*frec2*tren_pulsos2)\n",
        "\n",
        "#Señal de suma de senoidales muestreada\n",
        "sumaseñales_muestreada = seno1_muestreada + seno2_muestreada"
      ]
    },
    {
      "cell_type": "code",
      "source": [
        "#Gráfica de señal suma de senoidales original y señal suma de senoidales muestreada\n",
        "plt.figure(figsize=(15,5))\n",
        "plt.plot(tiempo, suma_señales, label = \"original\")\n",
        "plt.stem(tren_pulsos2, sumaseñales_muestreada, \"r\", label = \"muestreada\")\n",
        "plt.legend(['Señal suma de senoidales original', 'Señal suma de senoidales muestreada'], loc=\"upper right\")\n",
        "plt.title(\"Señal suma de senoidales original v/s señal suma de senoidales muestreada\")\n",
        "plt.xlabel(\"Tiempo [s]\")\n",
        "plt.ylabel(\"Amplitud [V]\")"
      ],
      "metadata": {
        "id": "BE3PXrkOvUu8"
      },
      "id": "BE3PXrkOvUu8",
      "execution_count": null,
      "outputs": []
    },
    {
      "cell_type": "markdown",
      "id": "1ea31cae-047d-4b09-91b2-ab627b90ede7",
      "metadata": {
        "id": "1ea31cae-047d-4b09-91b2-ab627b90ede7"
      },
      "source": [
        "### 3.5 Compruebe el teorema de Nyquist\n",
        "Para comprobarlo, debes evaluar algunos casos:\n",
        "1. la frecuencia de sampleo _f_ es mayor que la frecuencia máxima de tu señal, Fmax.\n",
        "2. la frecuencia de sampleo _f_ es mayor que 2*Fmax.\n",
        "3. la frecuencia de sampleo _f_ es mayor que 5*Fmax.\n",
        "\n",
        "<p align=\"justify\">\n",
        "Debe graficar:\n",
        "\n",
        "1. la señal original.\n",
        "2. la señal sampleada.\n",
        "3. la señal reconstruida a partir del sampleo.\n",
        "\n",
        "#### Caso 1: frecuencia de sampleo _f_ es mayor que la frecuencia máxima de tu señal.\n"
      ]
    },
    {
      "cell_type": "code",
      "execution_count": 73,
      "id": "c84bb6f6",
      "metadata": {
        "id": "c84bb6f6"
      },
      "outputs": [],
      "source": [
        "#Frecuencia máxima\n",
        "fmax = frec2\n",
        "\n",
        "#Frecuencia y periodo de sampleo en caso 1\n",
        "fs_caso1 = 20\n",
        "Ts_caso1 = 1/fs_caso1\n",
        "\n",
        "#Creación de tren de pulsos\n",
        "tren_pulsos_caso1 = np.arange(0, 1, Ts_caso1)\n",
        "\n",
        "seno1_muestreada_caso1 = np.sin(2*np.pi*frec1*tren_pulsos_caso1)\n",
        "seno2_muestreada_caso1 = np.sin(2*np.pi*frec2*tren_pulsos_caso1)\n",
        "\n",
        "#Señal de suma de señales muestreada según caso 1\n",
        "sumaseñales_muestreada_caso1 = seno1_muestreada_caso1 + seno2_muestreada_caso1"
      ]
    },
    {
      "cell_type": "code",
      "source": [
        "#Gráfica de señal original y señal muestreada en caso 1\n",
        "plt.figure(figsize=(15,5))\n",
        "plt.plot(tiempo, suma_señales, label = \"original\")\n",
        "plt.stem(tren_pulsos_caso1, sumaseñales_muestreada_caso1, \"r\", label = \"muestreada\")\n",
        "plt.legend(['Señal original caso 1', 'Señal muestreada caso 1'], loc=\"upper right\")\n",
        "plt.title(\"Señal original caso 1 v/s señal muestreada caso 1\")\n",
        "plt.xlabel(\"Tiempo [s]\")\n",
        "plt.ylabel(\"Amplitud [V]\")"
      ],
      "metadata": {
        "id": "jD-lOL1BwVqK"
      },
      "id": "jD-lOL1BwVqK",
      "execution_count": null,
      "outputs": []
    },
    {
      "cell_type": "code",
      "source": [
        "#Recuperación de la señal original caso 1\n",
        "señal_recuperada_caso1, t_recuperado_caso1 = scipy.signal.resample(sumaseñales_muestreada_caso1, 1000, tren_pulsos_caso1)"
      ],
      "metadata": {
        "id": "8nvPyFSLWSQB"
      },
      "id": "8nvPyFSLWSQB",
      "execution_count": null,
      "outputs": []
    },
    {
      "cell_type": "code",
      "source": [
        "#Gráfica de señal original y señal recuperada caso 1\n",
        "plt.figure(figsize=(15,5))\n",
        "plt.plot(tiempo, suma_señales, label = \"original\")\n",
        "plt.plot(t_recuperado_caso1, señal_recuperada_caso1, label = \"recuperada\")\n",
        "plt.legend(['Señal original caso 1', 'Señal recuperada caso 1'], loc=\"upper right\")\n",
        "plt.title(\"Señal original caso 1 v/s señal recuperada caso 1\")\n",
        "plt.xlabel(\"Tiempo [s]\")\n",
        "plt.ylabel(\"Amplitud [V]\")"
      ],
      "metadata": {
        "id": "W_BxuQ_9xZnt"
      },
      "id": "W_BxuQ_9xZnt",
      "execution_count": null,
      "outputs": []
    },
    {
      "cell_type": "markdown",
      "source": [
        "#### Caso 2: frecuencia de sampleo _f_ es mayor que 2*Fmax."
      ],
      "metadata": {
        "id": "zNrCX2bBXLZ6"
      },
      "id": "zNrCX2bBXLZ6"
    },
    {
      "cell_type": "code",
      "execution_count": 76,
      "id": "c2ac5558",
      "metadata": {
        "id": "c2ac5558"
      },
      "outputs": [],
      "source": [
        "#Frecuencia y periodo de sampleo para caso 2\n",
        "fs_caso2 = 2*fmax + 1\n",
        "Ts_caso2 = 1/fs_caso2\n",
        "\n",
        "#Creación de tren de pulsos\n",
        "tren_pulsos_caso2 = np.arange(0, 1, Ts_caso2)\n",
        "\n",
        "seno1_muestreada_caso2 = np.sin(2*np.pi*frec1*tren_pulsos_caso2)\n",
        "seno2_muestreada_caso2 = np.sin(2*np.pi*frec2*tren_pulsos_caso2)\n",
        "\n",
        "#Señal suma de seañales muestreada según caso 2\n",
        "sumaseñales_muestreada_caso2 = seno1_muestreada_caso2 + seno2_muestreada_caso2"
      ]
    },
    {
      "cell_type": "code",
      "source": [
        "#Gráfica de señal original y señal muestreada caso 2\n",
        "plt.figure(figsize=(15,5))\n",
        "plt.plot(tiempo, suma_señales, label = \"original\")\n",
        "plt.stem(tren_pulsos_caso2, sumaseñales_muestreada_caso2, \"r\", label = \"muestreada\")\n",
        "plt.legend(['Señal original caso 2', 'Señal muestreada caso 2'], loc=\"upper right\")\n",
        "plt.title(\"Señal original caso 2 v/s señal muestreada caso 2\")\n",
        "plt.xlabel(\"Tiempo [s]\")\n",
        "plt.ylabel(\"Amplitud [V]\")"
      ],
      "metadata": {
        "id": "2vl3ERMFyBUG"
      },
      "id": "2vl3ERMFyBUG",
      "execution_count": null,
      "outputs": []
    },
    {
      "cell_type": "code",
      "source": [
        "#Recuperación de la señal original caso 2\n",
        "señal_recuperada_caso2, t_recuperado_caso2 = scipy.signal.resample(sumaseñales_muestreada_caso2, 1000, tren_pulsos_caso2)"
      ],
      "metadata": {
        "id": "uVEwZlUuXt-B"
      },
      "id": "uVEwZlUuXt-B",
      "execution_count": 78,
      "outputs": []
    },
    {
      "cell_type": "code",
      "source": [
        "#Gráfica de señal original y señal recuperada caso 2\n",
        "plt.figure(figsize=(15,5))\n",
        "plt.plot(tiempo, suma_señales, label = \"original\")\n",
        "plt.plot(t_recuperado_caso2, señal_recuperada_caso2, label = \"recuperada\")\n",
        "plt.legend(['Señal original caso 2', 'Señal recuperada caso 2'], loc=\"upper right\")\n",
        "plt.title(\"Señal original caso 2 v/s señal recuperada caso 2\")\n",
        "plt.xlabel(\"Tiempo [s]\")\n",
        "plt.ylabel(\"Amplitud [V]\")"
      ],
      "metadata": {
        "id": "WcE_zrc_ycEG"
      },
      "id": "WcE_zrc_ycEG",
      "execution_count": null,
      "outputs": []
    },
    {
      "cell_type": "markdown",
      "source": [
        "#### Caso 3: frecuencia de sampleo _f_ es mayor que 5*Fmax"
      ],
      "metadata": {
        "id": "yw8xKwMCX6nh"
      },
      "id": "yw8xKwMCX6nh"
    },
    {
      "cell_type": "code",
      "execution_count": 80,
      "id": "77035a49",
      "metadata": {
        "id": "77035a49"
      },
      "outputs": [],
      "source": [
        "#Frecuencia y periodo de sampleo caso 3\n",
        "fs_caso3 = 5*fmax + 1\n",
        "Ts_caso3 = 1/fs_caso3\n",
        "\n",
        "#Creación de tren de pulsos\n",
        "tren_pulsos_caso3 = np.arange(0, 1, Ts_caso3)\n",
        "\n",
        "seno1_muestreada_caso3 = np.sin(2*np.pi*frec1*tren_pulsos_caso3)\n",
        "seno2_muestreada_caso3 = np.sin(2*np.pi*frec2*tren_pulsos_caso3)\n",
        "\n",
        "#Señal de suma de señales muestreada según caso 3\n",
        "sumaseñales_muestreada_caso3 = seno1_muestreada_caso3 + seno2_muestreada_caso3"
      ]
    },
    {
      "cell_type": "code",
      "source": [
        "#Gráfica de señal original y señal muestreada caso 3\n",
        "plt.figure(figsize=(15,5))\n",
        "plt.plot(tiempo, suma_señales, label = \"original\" )\n",
        "plt.stem(tren_pulsos_caso3, sumaseñales_muestreada_caso3, \"r\", label = \"muestreada\" )\n",
        "plt.legend(['Señal original caso 3', 'Señal muestreada caso 3'], loc=\"upper right\")\n",
        "plt.title(\"Señal original caso 3 v/s señal muestreada caso 3\")\n",
        "plt.xlabel(\"Tiempo [s]\")\n",
        "plt.ylabel(\"Amplitud [V]\")"
      ],
      "metadata": {
        "id": "7JbhA3PfzYKA"
      },
      "id": "7JbhA3PfzYKA",
      "execution_count": null,
      "outputs": []
    },
    {
      "cell_type": "code",
      "source": [
        "#Recuperación de la señal original caso 3\n",
        "señal_recuperada_caso3, t_recuperado_caso3 = scipy.signal.resample(sumaseñales_muestreada_caso3, 1000, tren_pulsos_caso3)"
      ],
      "metadata": {
        "id": "dxoviLaAYL7U"
      },
      "id": "dxoviLaAYL7U",
      "execution_count": 82,
      "outputs": []
    },
    {
      "cell_type": "code",
      "source": [
        "#Gráfica de señal original y señal recuperada caso 3\n",
        "plt.figure(figsize=(15,5))\n",
        "plt.plot(tiempo, suma_señales, label = \"original\")\n",
        "plt.plot(t_recuperado_caso3, señal_recuperada_caso3, label = \"muestreada\")\n",
        "plt.legend(['Señal original caso 3', 'Señal recuperada caso 3'], loc=\"upper right\")\n",
        "plt.title(\"Señal original caso 3 v/s señal recuperada caso 3\")\n",
        "plt.xlabel(\"Tiempo [s]\")\n",
        "plt.ylabel(\"Amplitud [V]\")"
      ],
      "metadata": {
        "id": "1UurEnC4z1ud"
      },
      "id": "1UurEnC4z1ud",
      "execution_count": null,
      "outputs": []
    },
    {
      "cell_type": "markdown",
      "id": "9142f383-7a62-46e2-8e5d-b4fa2c41b121",
      "metadata": {
        "id": "9142f383-7a62-46e2-8e5d-b4fa2c41b121"
      },
      "source": [
        "### 3.6 Explica tus hallazgos"
      ]
    },
    {
      "cell_type": "markdown",
      "source": [
        "El Teorema de Muestreo de Nyquist explica la relación entre la velocidad de muestreo y la frecuencia de la señal medida. Afirma que la velocidad de muestreo fs debe ser mayor que el doble del componente de interés de frecuencia más alto en la señal medida. Esta frecuencia por lo general se conoce como la frecuencia Nyquist, $f_N$.\n",
        "\n",
        "$$f_s > 2*f_N$$\n",
        "\n",
        "\n",
        "En los casos previos, confirmamos la validez del teorema de Nyquist. En el primer caso, donde la frecuencia de muestreo es inferior al doble de la frecuencia máxima de la señal, notamos que la señal reconstruida difiere significativamente de la original. Sin embargo, en los casos 2 y 3, donde la frecuencia de muestreo es igual o mayor que el doble de la frecuencia máxima, observamos que la señal reconstruida es prácticamente idéntica a la original."
      ],
      "metadata": {
        "id": "020107fb-a697-42ce-b344-ec7abb8058ce"
      },
      "id": "020107fb-a697-42ce-b344-ec7abb8058ce"
    },
    {
      "cell_type": "markdown",
      "id": "3add46e0-f5e2-4a20-8830-3e795f78d2a0",
      "metadata": {
        "id": "3add46e0-f5e2-4a20-8830-3e795f78d2a0"
      },
      "source": [
        "## 4. Referencias\n",
        "<p align=\"justify\">\n",
        "    \n",
        "\n",
        "[Sobre Teorema del sampleo]https://ipython-books.github.io/chapter-10-signal-processing/\n",
        "\n",
        "[Sobre Matplotlib] https://matplotlib.org/stable/gallery/mplot3d/2dcollections3d.html#sphx-glr-gallery-mplot3d-2dcollections3d-py\n",
        "\n",
        "[Sobre impulso] https://docs.scipy.org/doc/scipy/reference/generated/scipy.signal.unit_impulse.html\n",
        "\n",
        "[Sobre sampleo y reconstrucción de señal] https://www.youtube.com/watch?v=FDUJsATFZyI&t=776s\n",
        "\n",
        "[Sobre señal triangular] https://stackoverflow.com/questions/12332392/triangle-wave-shaped-array-in-python\n",
        "\n",
        "[Sobre suma de señales senoidales] https://medium.com/@martinkarlsson.io/fourier-transform-in-python-f15b3243ce9a\n",
        "\n",
        "[Sobre teorema de nyquist] https://www.ni.com/es/shop/data-acquisition/measurement-fundamentals-main-page/analog-fundamentals/acquiring-an-analog-signal--bandwidth--nyquist-sampling-theorem-.html"
      ]
    }
  ],
  "metadata": {
    "kernelspec": {
      "display_name": "Python 3 (ipykernel)",
      "language": "python",
      "name": "python3"
    },
    "language_info": {
      "codemirror_mode": {
        "name": "ipython",
        "version": 3
      },
      "file_extension": ".py",
      "mimetype": "text/x-python",
      "name": "python",
      "nbconvert_exporter": "python",
      "pygments_lexer": "ipython3",
      "version": "3.10.12"
    },
    "colab": {
      "provenance": [],
      "include_colab_link": true
    }
  },
  "nbformat": 4,
  "nbformat_minor": 5
}