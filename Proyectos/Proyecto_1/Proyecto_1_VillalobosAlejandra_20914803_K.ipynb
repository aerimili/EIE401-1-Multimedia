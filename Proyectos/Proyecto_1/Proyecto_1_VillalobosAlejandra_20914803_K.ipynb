{
  "cells": [
    {
      "cell_type": "markdown",
      "metadata": {
        "id": "view-in-github",
        "colab_type": "text"
      },
      "source": [
        "<a href=\"https://colab.research.google.com/github/aerimili/EIE401-1-Multimedia/blob/main/Proyectos/Proyecto_1/Proyecto_1_VillalobosAlejandra_20914803_K.ipynb\" target=\"_parent\"><img src=\"https://colab.research.google.com/assets/colab-badge.svg\" alt=\"Open In Colab\"/></a>"
      ]
    },
    {
      "cell_type": "markdown",
      "id": "0a22500b-75f6-4e9e-bff8-e2166e04bd6a",
      "metadata": {
        "id": "0a22500b-75f6-4e9e-bff8-e2166e04bd6a"
      },
      "source": [
        "<h1><center>\n",
        "\n",
        "</center></h1>\n",
        "<font size=\"6\"><center>\n",
        "EIE 401\n",
        "PROCESAMIENTO DIGITAL MULTIMEDIA\n",
        "</center></font>"
      ]
    },
    {
      "cell_type": "markdown",
      "id": "4bb821ab-49e9-40ef-8ecd-d491bba9452c",
      "metadata": {
        "id": "4bb821ab-49e9-40ef-8ecd-d491bba9452c"
      },
      "source": [
        "\n",
        "<center><h2>Proyecto 1</h2></center>\n",
        "<center><h3>Procesamiento digital de señales</h3></center>\n",
        "<center><h3>Profesor: Jorge Cardenas</h3></center>\n",
        "\n",
        "<center><h3>Por: Alejandra Villalobos</h3></center>\n",
        "<center><h5>Pontificia Universidad Catolica de Valparaiso</h5></center>\n"
      ]
    },
    {
      "cell_type": "code",
      "source": [
        "import numpy as np\n",
        "import matplotlib.pyplot as plt\n",
        "from IPython.display import Audio\n",
        "from scipy.signal import tukey, butter, freqs, resample\n",
        "from scipy import signal"
      ],
      "metadata": {
        "id": "VBgh_1mp3KZP"
      },
      "id": "VBgh_1mp3KZP",
      "execution_count": 1,
      "outputs": []
    },
    {
      "cell_type": "code",
      "execution_count": null,
      "id": "215c84a4",
      "metadata": {
        "id": "215c84a4"
      },
      "outputs": [],
      "source": [
        "from IPython.display import IFrame, display\n",
        "filepath = \"Proyecto_1_EIE401.pdf\"\n",
        "IFrame(filepath, width=700, height=400)"
      ]
    },
    {
      "cell_type": "markdown",
      "id": "c63b11e7",
      "metadata": {
        "id": "c63b11e7"
      },
      "source": [
        "Debes usar el sitio https://gwosc.org/eventapi/html/GWTC/, donde encuentras todo el catálogo de observaciones con los datos en diferentes formatos. Debes seleccionar una detección para tu estudio y descargar los datos correspondientes (H5 o TXT), lo que posteriormente deberás tratar de manera digital como audio (serie de tiempo).\n",
        "tip: Te recomiendo tomar la serie de tiempo corta (32 segundos) para facilitar el análisis, y asegurarte de tomar la tasa de muestreo más alta.\n",
        "tip: Asegúrate de tomar un caso cuyo espectrograma de muestra, indique una señal clara y fuerte para facilitar tu trabajo, de otra forma es posible que no logres aislarla lo suficiente.\n"
      ]
    },
    {
      "cell_type": "markdown",
      "id": "f0889ee3-d16b-49e3-be4b-a4c94f28701d",
      "metadata": {
        "id": "f0889ee3-d16b-49e3-be4b-a4c94f28701d"
      },
      "source": [
        "## 1. Carga de Datos\n"
      ]
    },
    {
      "cell_type": "code",
      "source": [
        "from google.colab import files\n",
        "\n",
        "#Subir archivo a Colab\n",
        "print(\"Cargue archivo H-H1_GWOSC_16KHZ_R1-1242459842-32.txt:\")\n",
        "uploaded = files.upload()"
      ],
      "metadata": {
        "id": "2Z3FrAU59TX2"
      },
      "id": "2Z3FrAU59TX2",
      "execution_count": null,
      "outputs": []
    },
    {
      "cell_type": "code",
      "execution_count": 3,
      "id": "d0ab6ee5-d7a3-4cf7-9aee-1d1a76b5525f",
      "metadata": {
        "tags": [],
        "id": "d0ab6ee5-d7a3-4cf7-9aee-1d1a76b5525f"
      },
      "outputs": [],
      "source": [
        "L1 = \"L-L1_GWOSC_16KHZ_R1-1242459842-32.txt\"\n",
        "\n",
        "#Se abre el archivo txt\n",
        "with open(L1, \"r\") as fichero:\n",
        "  archivo_string = fichero.read()\n",
        "\n",
        "#Se importa archivo saltandose las filas que no sirven\n",
        "strain = np.loadtxt(L1, delimiter = \",\", skiprows = 1, dtype = float)"
      ]
    },
    {
      "cell_type": "markdown",
      "id": "28db8b8d",
      "metadata": {
        "id": "28db8b8d"
      },
      "source": [
        "## 2. Convertir en audio\n",
        "Es una forma de validar que tenemos un alto componente de ruido en la señal y que el interés es eliminarlo para encontrar una señal candidata.\n",
        "\n",
        "Te recomiendo hacer una señal de audio de cada uno de las etapas para así validar como va el proceso. Al final deberás obtener un señal con CHIRP o BUMP. Son sonidos que comprueban que tienes una cantidad de potencia que sobre destaca sobre el ruido."
      ]
    },
    {
      "cell_type": "code",
      "execution_count": 4,
      "id": "3cf800d9",
      "metadata": {
        "id": "3cf800d9"
      },
      "outputs": [],
      "source": [
        "fs = 16000 #Frecuencia de muestreo\n",
        "time = np.linspace(0, strain.size / fs, strain.size) #Creación vector tiempo\n",
        "\n",
        "lowTime = 15 #Tiempo de intervalo donde empieza recorte\n",
        "highTime = 16 #Tiempo de intervalo donde termina recorte\n",
        "lowSample = lowTime*fs #Muestras en tiempo bajo\n",
        "highSample = highTime*fs #Muestras en tiempo alto\n",
        "\n",
        "strainSteps = strain[lowSample:highSample] #Señal de audio recortada\n",
        "\n",
        "timeSteps = np.linspace(lowTime, highTime, strainSteps.size) #Vector tiempo recortado"
      ]
    },
    {
      "cell_type": "code",
      "source": [
        "#Gráfica de señal de audio original\n",
        "plt.figure(figsize=(20, 5))\n",
        "plt.plot(timeSteps, strainSteps)\n",
        "plt.xlabel(\"Tiempo (s)\")\n",
        "plt.ylabel(\"Amplitud\")\n",
        "plt.title(\"Señal original en intervalo de interés\")"
      ],
      "metadata": {
        "id": "ZE-BEw_VqDoW"
      },
      "id": "ZE-BEw_VqDoW",
      "execution_count": null,
      "outputs": []
    },
    {
      "cell_type": "code",
      "source": [
        "#Reproducción de audio original\n",
        "Audio(strain, rate = fs)"
      ],
      "metadata": {
        "id": "9eUOiqduQ-rY"
      },
      "id": "9eUOiqduQ-rY",
      "execution_count": null,
      "outputs": []
    },
    {
      "cell_type": "markdown",
      "id": "c64b67c8",
      "metadata": {
        "id": "c64b67c8"
      },
      "source": [
        "## 3. Análisis de Fourier\n",
        "Al realizar la conversión, queremos ver cuales son las componentes de ruido que más afectan al instrumento y debemos ignorar en el análisis. Eso se ve como \"pico\" o la apariencia de \"peine\".\n",
        "Se debe presenta la densidad espectral de potencia antes y después de la función de Windowing.\n"
      ]
    },
    {
      "cell_type": "code",
      "execution_count": null,
      "id": "16275ac1",
      "metadata": {
        "id": "16275ac1"
      },
      "outputs": [],
      "source": [
        "ft = np.fft.fft(strain) #Transformada de Fourier de señal original\n",
        "\n",
        "n = len(time)\n",
        "\n",
        "dep = ft * np.conj(ft) / n #Cálculo de la densidad espectral de potencia a\n",
        "\n",
        "freq = np.fft.fftfreq(n, 1/fs) #Creación de vector de frecuencias\n",
        "L = np.arange(1, np.floor(n/2), dtype = \"int\")\n",
        "\n",
        "windowTukey = tukey(strain.size, alpha = 0.5) #Creación de ventana Tukey\n",
        "\n",
        "strainWindow = strain * windowTukey #Se realiza windowing a la señal\n",
        "\n",
        "fftStrain = np.fft.fft(strainWindow) #Transformada de Fouier de señal con windowing\n",
        "\n",
        "depWin = fftStrain * np.conj(fftStrain) / n #Cálculo de densidad espectral de potencia a señal con windowing"
      ]
    },
    {
      "cell_type": "code",
      "source": [
        "#Gráfica de señal original y señal con windowing\n",
        "plt.figure(figsize = (20,6))\n",
        "plt.subplot(121)\n",
        "plt.plot(timeSteps, strainSteps)\n",
        "plt.xlabel(\"Tiempo (s)\")\n",
        "plt.ylabel(\"Amplitud\")\n",
        "plt.title(\"Señal original en intervalo de interés\")\n",
        "\n",
        "plt.subplot(122)\n",
        "plt.plot(timeSteps, strainWindow[lowSample:highSample])\n",
        "plt.xlabel(\"Tiempo (s)\")\n",
        "plt.ylabel(\"Amplitud\")\n",
        "plt.title(\"Señal con windowing en intervalo de interés\")"
      ],
      "metadata": {
        "id": "Ws2GOeqTIJW_"
      },
      "id": "Ws2GOeqTIJW_",
      "execution_count": null,
      "outputs": []
    },
    {
      "cell_type": "code",
      "source": [
        "#Gráfica de psd de señal original y psd de señal con windowing en escala logarítmica\n",
        "plt.figure(figsize = (20,6))\n",
        "plt.semilogy(freq[L], dep[L], color = \"purple\", label = \"original\")\n",
        "plt.semilogy(freq[L], depWin[L], label = \"windowed\")\n",
        "plt.title(\"Densidad espectral de potencia\")\n",
        "plt.xlabel(\"Frecuencias[Hz]\")\n",
        "plt.ylabel(\"Potencia\")\n",
        "plt.legend()"
      ],
      "metadata": {
        "id": "Sch48cNEJq_L"
      },
      "id": "Sch48cNEJq_L",
      "execution_count": null,
      "outputs": []
    },
    {
      "cell_type": "code",
      "source": [
        "#Reproducción de audio con windowing\n",
        "Audio(strainWindow, rate = fs)"
      ],
      "metadata": {
        "id": "uCCRXfdfAJP6"
      },
      "id": "uCCRXfdfAJP6",
      "execution_count": null,
      "outputs": []
    },
    {
      "cell_type": "markdown",
      "id": "55e692dd",
      "metadata": {
        "id": "55e692dd"
      },
      "source": [
        "## 4. Procesamiento\n",
        "Debes inferir de tu estudio, cual es el proceso que aplican a la señal y reproducirlo. Es posible que cada estudiante llegue a una solución más o menos diferente, pues no hay un código abierto donde esté el procedimiento completo.\n"
      ]
    },
    {
      "cell_type": "markdown",
      "source": [
        "### Whitening"
      ],
      "metadata": {
        "id": "d7cekCMRtpqp"
      },
      "id": "d7cekCMRtpqp"
    },
    {
      "cell_type": "code",
      "source": [
        "asd = np.sqrt(depWin) #Cálculo de asd\n",
        "\n",
        "whitenedStrain = fftStrain / asd #Cálculo de whitening de señal en dominio de frecuencia\n",
        "\n",
        "wStrainTimeD = np.fft.ifft(whitenedStrain) #Cálculo de whitening de señal en dominio del tiempo"
      ],
      "metadata": {
        "id": "cszZXF46q9mj"
      },
      "id": "cszZXF46q9mj",
      "execution_count": 9,
      "outputs": []
    },
    {
      "cell_type": "code",
      "source": [
        "#Gráfica de señal whitened\n",
        "plt.figure(figsize=(20, 6))\n",
        "plt.plot(timeSteps, wStrainTimeD[lowSample:highSample], label=\"Señal whitened\")\n",
        "plt.xlabel(\"Time (s)\")\n",
        "plt.ylabel(\"Amplitud\")\n",
        "plt.title(\"Whitening de señal en dominio del tiempo en intervalo de interés\")"
      ],
      "metadata": {
        "id": "S7ZL7DAiq-sV"
      },
      "id": "S7ZL7DAiq-sV",
      "execution_count": null,
      "outputs": []
    },
    {
      "cell_type": "code",
      "source": [
        "#Reproducción de señal whitened\n",
        "Audio(wStrainTimeD, rate = fs)"
      ],
      "metadata": {
        "id": "6gSzX5oBq-k2"
      },
      "id": "6gSzX5oBq-k2",
      "execution_count": null,
      "outputs": []
    },
    {
      "cell_type": "markdown",
      "source": [
        "### Filtrado"
      ],
      "metadata": {
        "id": "xeMHQIXAt0qY"
      },
      "id": "xeMHQIXAt0qY"
    },
    {
      "cell_type": "code",
      "source": [
        "b, a = butter(4, [30, 100], btype = \"bandpass\", fs=fs) #Creación de filtro Butterworth\n",
        "\n",
        "filteredStrain = signal.filtfilt(b, a, wStrainTimeD.real) #Aplicación de filtro a señal whitened"
      ],
      "metadata": {
        "id": "HttxcBTkq-Zq"
      },
      "id": "HttxcBTkq-Zq",
      "execution_count": 11,
      "outputs": []
    },
    {
      "cell_type": "code",
      "source": [
        "#Gráfica de señal filtrada\n",
        "plt.figure(figsize=(20, 6))\n",
        "plt.plot(timeSteps, filteredStrain[lowSample:highSample])\n",
        "plt.xlabel(\"Time (s)\")\n",
        "plt.ylabel(\"Amplitude\")\n",
        "plt.title(\"Señal filtrada\")"
      ],
      "metadata": {
        "id": "IC0jnbk3rG9b"
      },
      "id": "IC0jnbk3rG9b",
      "execution_count": null,
      "outputs": []
    },
    {
      "cell_type": "code",
      "source": [
        "#Reproducción de audio filtrado\n",
        "Audio(filteredStrain, rate = fs)"
      ],
      "metadata": {
        "id": "NY1adO3urHOq"
      },
      "id": "NY1adO3urHOq",
      "execution_count": null,
      "outputs": []
    },
    {
      "cell_type": "markdown",
      "source": [
        "Entre el segundo 15 y 16 se puede alcanzar a escuchar el \"chirp\" de la señal."
      ],
      "metadata": {
        "id": "gsiPeenWwqRB"
      },
      "id": "gsiPeenWwqRB"
    },
    {
      "cell_type": "markdown",
      "id": "550b44f5",
      "metadata": {
        "id": "550b44f5"
      },
      "source": [
        "# Resampling\n",
        "Para lograr una mejor definición de la señal, se debe hacer un resampleo. Esto tienen consecuencias por eso debe elegirse bien la frecuencia de tal forma que no se introduzca ruido."
      ]
    },
    {
      "cell_type": "code",
      "execution_count": 13,
      "id": "7a7f2afc",
      "metadata": {
        "id": "7a7f2afc"
      },
      "outputs": [],
      "source": [
        "fs_nueva = 32000 #Frecuencia de muestreo para resampleo\n",
        "\n",
        "low = 15 #Tiempo de intervalo donde empieza recorte\n",
        "high = 16 #Tiempo de intervalo donde termina recorte\n",
        "\n",
        "lowsample = low * fs_nueva #Muestras en tiempo bajo\n",
        "highsample = high * fs_nueva #Muestras en tiempo alto\n",
        "\n",
        "resampledStrain = resample(filteredStrain.real, int(len(filteredStrain) * fs_nueva / fs)) #Señal resampleada\n",
        "\n",
        "tiempo = np.linspace(0, len(resampledStrain) / fs_nueva, len(resampledStrain)) #Creación de vector tiempo para señal resampleada"
      ]
    },
    {
      "cell_type": "code",
      "source": [
        "#Gráfica de señal resampleada a 32kHz\n",
        "plt.figure(figsize=(20, 6))\n",
        "plt.plot(tiempo[lowsample:highsample], resampledStrain[lowsample:highsample])\n",
        "plt.xlabel(\"Time (s)\")\n",
        "plt.ylabel(\"Amplitude\")\n",
        "plt.title(\"Señal resampleada a 32kHz\")"
      ],
      "metadata": {
        "id": "jXcL82h9kC5H"
      },
      "id": "jXcL82h9kC5H",
      "execution_count": null,
      "outputs": []
    },
    {
      "cell_type": "code",
      "source": [
        "#Reproducción de audio resampleado\n",
        "Audio(resampledStrain, rate = fs_nueva)"
      ],
      "metadata": {
        "id": "0U9dijKNlYxz"
      },
      "id": "0U9dijKNlYxz",
      "execution_count": null,
      "outputs": []
    },
    {
      "cell_type": "markdown",
      "source": [
        "### Espectrograma"
      ],
      "metadata": {
        "id": "jh9UlTaLt-sp"
      },
      "id": "jh9UlTaLt-sp"
    },
    {
      "cell_type": "code",
      "source": [
        "#Ver espectrograma de señal resampleada\n",
        "f, t, Sxx = signal.spectrogram(resampledStrain, fs_nueva)\n",
        "plt.pcolormesh(t, f, Sxx, shading=\"gouraud\")\n",
        "plt.xlim(15.6, 16)\n",
        "plt.ylim(0,1000)\n",
        "plt.title(\"Espectrograma de señal resampleada\")\n",
        "plt.xlabel(\"Tiempo (s)\")\n",
        "plt.ylabel(\"Frecuencia (Hz)\")"
      ],
      "metadata": {
        "id": "Ezo61WVdYBfb"
      },
      "id": "Ezo61WVdYBfb",
      "execution_count": null,
      "outputs": []
    },
    {
      "cell_type": "markdown",
      "id": "3add46e0-f5e2-4a20-8830-3e795f78d2a0",
      "metadata": {
        "id": "3add46e0-f5e2-4a20-8830-3e795f78d2a0"
      },
      "source": [
        "#Referencias\n",
        "\n",
        "[Whitening + Bandpass](https://www.kaggle.com/code/maxdner/signal-preprocessing-whitening-bandpass-filter)\n",
        "\n",
        "[Resampling](https://docs.scipy.org/doc/scipy/reference/generated/scipy.signal.resample.html)\n",
        "\n",
        "[Tukey window](https://docs.scipy.org/doc/scipy-0.18.1/reference/generated/scipy.signal.tukey.html)\n",
        "\n",
        "[Densidad espectral de potencia](https://www.youtube.com/watch?v=s2K1JfNR7Sc)\n",
        "\n",
        "[Filtro Butterworth](https://dsp.stackexchange.com/questions/49460/apply-low-pass-butterworth-filter-in-python)\n",
        "\n",
        "[Filtro Butterworth](https://docs.scipy.org/doc/scipy/reference/generated/scipy.signal.butter.html)\n",
        "\n",
        "[Espectrograma](https://docs.scipy.org/doc/scipy/reference/generated/scipy.signal.spectrogram.html)"
      ]
    }
  ],
  "metadata": {
    "kernelspec": {
      "display_name": "Python 3 (ipykernel)",
      "language": "python",
      "name": "python3"
    },
    "language_info": {
      "codemirror_mode": {
        "name": "ipython",
        "version": 3
      },
      "file_extension": ".py",
      "mimetype": "text/x-python",
      "name": "python",
      "nbconvert_exporter": "python",
      "pygments_lexer": "ipython3",
      "version": "3.10.12"
    },
    "colab": {
      "provenance": [],
      "include_colab_link": true
    }
  },
  "nbformat": 4,
  "nbformat_minor": 5
}