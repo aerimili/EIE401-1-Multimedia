{
  "cells": [
    {
      "cell_type": "markdown",
      "metadata": {
        "id": "view-in-github",
        "colab_type": "text"
      },
      "source": [
        "<a href=\"https://colab.research.google.com/github/aerimili/EIE401-1-Multimedia/blob/main/Actividades/Actividad_3/Actividad_3_VillalobosAlejandra_20914803-K.ipynb\" target=\"_parent\"><img src=\"https://colab.research.google.com/assets/colab-badge.svg\" alt=\"Open In Colab\"/></a>"
      ]
    },
    {
      "cell_type": "markdown",
      "id": "0a22500b-75f6-4e9e-bff8-e2166e04bd6a",
      "metadata": {
        "id": "0a22500b-75f6-4e9e-bff8-e2166e04bd6a"
      },
      "source": [
        "<h1><center>\n",
        "\n",
        "</center></h1>\n",
        "<font size=\"6\"><center>\n",
        "EIE 401\n",
        "PROCESAMIENTO DIGITAL MULTIMEDIA\n",
        "</center></font>"
      ]
    },
    {
      "cell_type": "markdown",
      "id": "4bb821ab-49e9-40ef-8ecd-d491bba9452c",
      "metadata": {
        "id": "4bb821ab-49e9-40ef-8ecd-d491bba9452c"
      },
      "source": [
        "\n",
        "<center><h2>Actividad 3</h2></center>\n",
        "<center><h3>Fundamentos</h3></center>\n",
        "<center><h3>Profesor: Jorge Cardenas</h3></center>\n",
        "\n",
        "<center><h3>Por: Alejandra Villalobos</h3></center>\n",
        "<center><h5>Pontificia Universidad Catolica de Valparaiso</h5></center>\n"
      ]
    },
    {
      "cell_type": "code",
      "source": [
        "import numpy as np\n",
        "import matplotlib.pyplot as plt"
      ],
      "metadata": {
        "id": "Hvi7wHuARVmt"
      },
      "id": "Hvi7wHuARVmt",
      "execution_count": 2,
      "outputs": []
    },
    {
      "cell_type": "markdown",
      "id": "c9edab54",
      "metadata": {
        "id": "c9edab54"
      },
      "source": [
        "## 1. Generar una imagen de una función trigronométrica (función bidimensional)\n",
        "### **Sinusoidal Gratings**\n",
        "\n",
        "<p align=\"justify\">\n",
        "En teoría, cualquier imagen puede ser reconstruida a partir de ondas senoidales. Es bueno entender como podemos generar una imagen que nos muestra una onda senoidal.\n"
      ]
    },
    {
      "cell_type": "code",
      "execution_count": 3,
      "id": "b2fc7c23",
      "metadata": {
        "id": "b2fc7c23"
      },
      "outputs": [],
      "source": [
        "f1 = 2 #Frecuencia de seno en Hz\n",
        "f2 = 5 #Frecuencia de coseno en Hz\n",
        "A = 1 #Amplitud de la señal\n",
        "fs = 60 #Frecuencia de muestreo\n",
        "t_inicio = 0\n",
        "t_final = 1\n",
        "t = np.linspace(t_inicio, t_final, fs) #Creación del vector tiempo\n",
        "signal = A*np.sin(2*np.pi*f1*t) + A*np.cos(2*np.pi*f2*t) #Señal senoidal"
      ]
    },
    {
      "cell_type": "code",
      "source": [
        "#Grafica de señal senoidal\n",
        "plt.plot(t, signal)\n",
        "plt.title(\"Señal senoidal\")\n",
        "plt.xlabel(\"Tiempo [s]\")\n",
        "plt.ylabel(\"Amplitud [V]\")"
      ],
      "metadata": {
        "id": "NOAgF8SaSUe5"
      },
      "id": "NOAgF8SaSUe5",
      "execution_count": null,
      "outputs": []
    },
    {
      "cell_type": "code",
      "source": [
        "#Creación de representacion 2D de la señal\n",
        "X, Y = np.meshgrid(t, t)\n",
        "grating = A*np.sin(2*np.pi*f1*X) + A*np.cos(2*np.pi*f2*Y)"
      ],
      "metadata": {
        "id": "KhoiZ-eZRZ8w"
      },
      "id": "KhoiZ-eZRZ8w",
      "execution_count": 5,
      "outputs": []
    },
    {
      "cell_type": "code",
      "source": [
        "#Gráfica de la imagen 2D de la señal\n",
        "plt.imshow(grating, cmap = \"gray\")\n",
        "plt.title(\"Imágen que representa la señal sinusoidal\")"
      ],
      "metadata": {
        "id": "nV_pn-0ioBIc"
      },
      "id": "nV_pn-0ioBIc",
      "execution_count": null,
      "outputs": []
    },
    {
      "cell_type": "markdown",
      "source": [
        "La imágen nos muestra una representación en 2D de la señal senoidal."
      ],
      "metadata": {
        "id": "bGYhx-UbiLOW"
      },
      "id": "bGYhx-UbiLOW"
    },
    {
      "cell_type": "markdown",
      "id": "f0ce6546",
      "metadata": {
        "id": "f0ce6546"
      },
      "source": [
        "## 2. Generar señales\n"
      ]
    },
    {
      "cell_type": "markdown",
      "id": "263e48d7",
      "metadata": {
        "id": "263e48d7"
      },
      "source": [
        "### 2. Genera una señal: estas señales las vas a utilizar en los puntos siguientes\n",
        "\n",
        "Genera la señal $$ sinx+cos2x $$ y graficala.\n"
      ]
    },
    {
      "cell_type": "code",
      "source": [
        "x = np.linspace(-5, 5, 60) #Creación de vector x\n",
        "\n",
        "señal = np.sin(x) + np.cos(2*x) #Señal senoidal pedida"
      ],
      "metadata": {
        "id": "1IJpGwN4RJl6"
      },
      "id": "1IJpGwN4RJl6",
      "execution_count": 7,
      "outputs": []
    },
    {
      "cell_type": "code",
      "source": [
        "#Gráfica de la señal pedida\n",
        "plt.plot(x, señal)\n",
        "plt.title(\"Señal senoidal sin(x) + cos(2x)\")\n",
        "plt.xlabel(\"Tiempo [s]\")\n",
        "plt.ylabel(\"Amplitud [V]\")"
      ],
      "metadata": {
        "id": "VkXHyzCtn-aL"
      },
      "id": "VkXHyzCtn-aL",
      "execution_count": null,
      "outputs": []
    },
    {
      "cell_type": "markdown",
      "id": "b48d300d",
      "metadata": {
        "id": "b48d300d"
      },
      "source": [
        "### 2.2 Genera otra señal no pura como la anterior, sino con ruido gaussiano añadido."
      ]
    },
    {
      "cell_type": "code",
      "execution_count": 9,
      "id": "6eea1846",
      "metadata": {
        "id": "6eea1846"
      },
      "outputs": [],
      "source": [
        "f3 = 5 #Frecuencia de seno en Hz\n",
        "f4 = 3 #Frecuencia de coseno en Hz\n",
        "señal2 = 2*np.sin(2*np.pi*f3*t+2) + np.cos(2*np.pi*f4*t) #Señal creada original\n",
        "\n",
        "def gaussian(x, mu, sigma):\n",
        "  \"\"\"\n",
        "  Calcula el valor de la función gaussiana.\n",
        "\n",
        "  Parámetros:\n",
        "  x: Datos con los que se evalúa la función.\n",
        "  mu: Media de la distribución gaussiana.\n",
        "  sigma: Desviación estándar de la distribución gaussiana.\n",
        "  \"\"\"\n",
        "  fx = (1/(sigma*np.sqrt(2*np.pi)))*np.exp(-((x-mu)**2)/(2*sigma**2)) #Fórmula de función gaussiana\n",
        "  return fx\n",
        "\n",
        "datos = np.random.random(len(señal2)) #Creación de datos aleatorios\n",
        "\n",
        "ruido = gaussian(datos,0,0.5) #Generación de ruido gaussiano usando la función gaussiana\n",
        "\n",
        "señal2_ruido = señal2 + ruido #Señal creada con ruido gaussiano agregado"
      ]
    },
    {
      "cell_type": "code",
      "source": [
        "#Gráfica de la señal creada original y señal creada con ruido\n",
        "plt.figure(figsize = (12,5))\n",
        "plt.subplot(121)\n",
        "plt.plot(t, señal2)\n",
        "plt.title(\"Señal creada original\")\n",
        "plt.xlabel(\"Tiempo [s]\")\n",
        "plt.ylabel(\"Amplitud [V]\")\n",
        "plt.subplot(122)\n",
        "plt.plot(t, señal2_ruido, color = \"purple\")\n",
        "plt.title(\"Señal creada con ruido\")\n",
        "plt.xlabel(\"Tiempo [s]\")\n",
        "plt.ylabel(\"Amplitud [V]\")"
      ],
      "metadata": {
        "id": "6ia5Ztlon7qP"
      },
      "id": "6ia5Ztlon7qP",
      "execution_count": null,
      "outputs": []
    },
    {
      "cell_type": "markdown",
      "source": [
        "La gráfica de la señal creada original muestra las componentes senoidales puras, mientras que la gráfica de la señal con ruido gaussiano muestra cómo el ruido afecta la forma de onda de la señal original, introduciendo fluctuaciones aleatorias en ella."
      ],
      "metadata": {
        "id": "u-a8NcXNpewn"
      },
      "id": "u-a8NcXNpewn"
    },
    {
      "cell_type": "markdown",
      "id": "668eaca7",
      "metadata": {
        "id": "668eaca7"
      },
      "source": [
        "## 3. Análisis en el dominio de Fourier\n",
        "<p align=\"justify\">\n",
        "A partir de las señales anteriores, aplica la transformada de Fourier.    \n"
      ]
    },
    {
      "cell_type": "markdown",
      "id": "34551801",
      "metadata": {
        "id": "34551801"
      },
      "source": [
        "### 3.1 Obtenga la transformada de Fourier para las señales que generaste en el  punto anterior\n"
      ]
    },
    {
      "cell_type": "code",
      "execution_count": 11,
      "id": "29d0a6e6",
      "metadata": {
        "id": "29d0a6e6"
      },
      "outputs": [],
      "source": [
        "def fft(x):\n",
        "  \"\"\"\n",
        "  Calcula la transformada de Fourier de una señal\n",
        "\n",
        "  Parámetros:\n",
        "  x: Secuencia de datos de la señal\n",
        "  \"\"\"\n",
        "  N = len(x) #Número de muestras\n",
        "  X = np.zeros(N, dtype = complex) #Vector salida\n",
        "\n",
        "  #Calcula la transformada de Fourier para cada frecuencia\n",
        "  for k in range(N):\n",
        "    for n in range(N):\n",
        "      X[k] += x[n] * np.exp(-2j *np.pi * k * n/N) #Fórmula de transformada de Fourier\n",
        "\n",
        "  return X\n",
        "\n",
        "tf1 = fft(señal) #Transformada de Fourier para señal pedida\n",
        "tf2 = fft(señal2_ruido) #Transformada de Fourier para señal creada con ruido"
      ]
    },
    {
      "cell_type": "code",
      "source": [
        "#Gráfica de tarnsformada de Fourier de señal pedida y señal creada\n",
        "plt.figure(figsize = (12,5))\n",
        "plt.subplot(121)\n",
        "plt.plot(tf1)\n",
        "plt.title(\"Transformada de Fourier de señal pedida\")\n",
        "plt.xlabel(\"Frecuencia [Hz]\")\n",
        "plt.ylabel(\"Amplitud [V]\")\n",
        "plt.subplot(122)\n",
        "plt.plot(tf2)\n",
        "plt.title(\"Transformada de Fourier de señal creada con ruido\")\n",
        "plt.xlabel(\"Frecuencia [Hz]\")\n",
        "plt.ylabel(\"Amplitud [V]\")"
      ],
      "metadata": {
        "id": "2ohrNnWrsDzh"
      },
      "id": "2ohrNnWrsDzh",
      "execution_count": null,
      "outputs": []
    },
    {
      "cell_type": "markdown",
      "source": [
        "Estas gráficas nos muestran las características de frecuencia tanto de la señal pedida como de la señal creada con ruido. Como se puede apreciar en el gráfico de la señal con ruido se ve un aumento de nivel de ruido en todas las frecuencias, así como picos adicionales en el espectro.  "
      ],
      "metadata": {
        "id": "OmkOc_j3t8-e"
      },
      "id": "OmkOc_j3t8-e"
    },
    {
      "cell_type": "markdown",
      "id": "29503768",
      "metadata": {
        "id": "29503768"
      },
      "source": [
        "### 3.2 Obten un resultado Normalizado:\n",
        "Investiga de que se trata un resultado normalizado y encargate de normalizar el resultado del punto 3.1"
      ]
    },
    {
      "cell_type": "code",
      "execution_count": 14,
      "id": "cc4bbf7b",
      "metadata": {
        "id": "cc4bbf7b"
      },
      "outputs": [],
      "source": [
        "tf1_norm = np.abs(tf1)/len(señal) #Normalización de TF de señal pedida\n",
        "\n",
        "tf2_norm = np.abs(tf2) / len(señal2_ruido) #Normalización de TF de señal creada con ruido"
      ]
    },
    {
      "cell_type": "code",
      "source": [
        "#Gráfica de transformada de Fourier de señales normalizadas\n",
        "plt.figure(figsize = (12,5))\n",
        "plt.subplot(121)\n",
        "plt.plot(tf1_norm)\n",
        "plt.title(\"Transformada de Fourier normalizada de señal pedida\")\n",
        "plt.xlabel(\"Frecuencia [Hz]\")\n",
        "plt.ylabel(\"Amplitud [V]\")\n",
        "plt.subplot(122)\n",
        "plt.plot(tf2_norm)\n",
        "plt.title(\"Transformada de Fourier normalizada de señal creada con ruido\")\n",
        "plt.xlabel(\"Frecuencia [Hz]\")\n",
        "plt.ylabel(\"Amplitud [V]\")"
      ],
      "metadata": {
        "id": "4LVvdBbLtNBC"
      },
      "id": "4LVvdBbLtNBC",
      "execution_count": null,
      "outputs": []
    },
    {
      "cell_type": "markdown",
      "source": [
        "Al normalizar las Transformada de Fourier se proporciona una representación más significativa de las características de frecuencia de las señales, ayuda a evitar interpretaciones erróneas y permite un análisis más preciso de la distribución de energía en el dominio de la frecuencia."
      ],
      "metadata": {
        "id": "zk9qk-qNv-Tu"
      },
      "id": "zk9qk-qNv-Tu"
    },
    {
      "cell_type": "markdown",
      "id": "27bd37b6",
      "metadata": {
        "id": "27bd37b6"
      },
      "source": [
        "### 3.3 Encuentra la transformada inversa de Fourier\n",
        "_solo para una señal de las dos que generaste inicialmente_ En este caso puede usar una librería. Explica en detalle que hace la librería y el resultado que arroja."
      ]
    },
    {
      "cell_type": "code",
      "execution_count": null,
      "id": "fae5f5b6",
      "metadata": {
        "id": "fae5f5b6"
      },
      "outputs": [],
      "source": [
        "def ifft(x):\n",
        "  \"\"\"\n",
        "  Calcula la transformada de Fourier inversa de una señal\n",
        "\n",
        "  Parámetros:\n",
        "  x: Transformada de Fourier de una señal\n",
        "  \"\"\"\n",
        "  N = len(x) #Número de muestras\n",
        "  X = np.zeros(N, dtype = complex) #Vector salida\n",
        "\n",
        "  #Calcula la transformada de Fourier inversa para cada frecuencia\n",
        "  for k in range(N):\n",
        "    for n in range(N):\n",
        "      X[k] += x[n] * np.exp(2j *np.pi * k * n/N) #Fórmula de transformada de Fourier inversa\n",
        "\n",
        "  return X/N\n",
        "\n",
        "ift1 = ifft(tf1) #Transformada de fourier inversa de señal pedida"
      ]
    },
    {
      "cell_type": "code",
      "source": [
        "#Gráfica de transformada de Fourier inversa de señal pedida\n",
        "plt.plot(ift1)\n",
        "plt.title(\"Transformada de Fourier inversa de señal pedida\")\n",
        "plt.xlabel(\"Frecuencia [Hz]\")\n",
        "plt.ylabel(\"Amplitud [V]\")"
      ],
      "metadata": {
        "id": "llnFMN4ixLNB"
      },
      "id": "llnFMN4ixLNB",
      "execution_count": null,
      "outputs": []
    },
    {
      "cell_type": "markdown",
      "source": [
        "Al aplicar la transformada de Forier inversa se puede observar cómo podemos recuperar la señal que teniamos originalmente a través de su espectro de frecuencias."
      ],
      "metadata": {
        "id": "tUdRTMZ4xldY"
      },
      "id": "tUdRTMZ4xldY"
    },
    {
      "cell_type": "markdown",
      "id": "01a83e63",
      "metadata": {
        "id": "01a83e63"
      },
      "source": [
        "### 3.4 Escriba un algoritmo para la Transformada Discreta de Fourier(DFT) 2-D y muéstrelo\n",
        "_solo para una señal de las dos que generaste inicialmente_\n",
        "Aquí debe implementar el algoritmo de DFT, es decir, NO puedes usar paquetes externos para calcular la transformada."
      ]
    },
    {
      "cell_type": "code",
      "execution_count": 11,
      "id": "b595da0e",
      "metadata": {
        "id": "b595da0e",
        "colab": {
          "base_uri": "https://localhost:8080/",
          "height": 34
        },
        "outputId": "46a15ad2-26e2-4c9a-b8d3-febaa1927f73"
      },
      "outputs": [
        {
          "output_type": "display_data",
          "data": {
            "text/plain": [
              "<Figure size 640x480 with 0 Axes>"
            ]
          },
          "metadata": {}
        }
      ],
      "source": [
        "#Creación de representacion 2D de la señal creada con ruido\n",
        "X, Y = np.meshgrid(t, t)\n",
        "señal2_grating = 2*np.sin(2*np.pi*f3*X + 2) + np.cos(2*np.pi*f4*Y)"
      ]
    },
    {
      "cell_type": "code",
      "source": [
        "def dft2d(input):\n",
        "  \"\"\"\n",
        "  Calcula la transformada discreta de Fourier en 2D\n",
        "\n",
        "  Parámetros:\n",
        "  input: Imágen en 2D de la señal\n",
        "  \"\"\"\n",
        "  M, N = input.shape #Tamaño de la imágen de entrada\n",
        "  F = np.zeros((M,N), dtype = complex) #Matriz de salida\n",
        "\n",
        "  #Calcula la transformada discreta de Fourier en 2D\n",
        "  for u in range(M):\n",
        "    for v in range(N):\n",
        "      for k in range(M):\n",
        "        for n in range(N):\n",
        "          F[u,v] += input[k,n] * np.exp(-2j * np.pi * ((u*k) / M + (v*n) / N)) #Fórmula de la TDF en 2D\n",
        "\n",
        "  return F\n",
        "\n",
        "dft2d_señal2 = dft2d(señal2_grating) #TDF en 2D de la imágen de señal creada con ruido\n",
        "plt.set_cmap(\"gray\")\n",
        "plt.figure(figsize = (5,5))\n",
        "plt.imshow(abs(dft2d_señal2), cmap = \"gray\")\n",
        "plt.title(\"Transformada discreta de Fourier en 2D de señal creada con ruido\")"
      ],
      "metadata": {
        "id": "pGCDHPhiSAuQ"
      },
      "id": "pGCDHPhiSAuQ",
      "execution_count": null,
      "outputs": []
    },
    {
      "cell_type": "markdown",
      "source": [
        "En la imágen entregada podemos ver la representación visual de la transformada de Fourier del grating de la señal creada con ruido."
      ],
      "metadata": {
        "id": "GuUCmrdIfj3C"
      },
      "id": "GuUCmrdIfj3C"
    },
    {
      "cell_type": "markdown",
      "id": "cb086822",
      "metadata": {
        "id": "cb086822"
      },
      "source": [
        "### 3.5 Explica tus hallazgos\n",
        "- Explica que diferencia hay entre los dos tipos de ruido generados y el efecto en la onda original.\n",
        "- Qué representan el resultado de la transformada de fourier para los casos que desarrollaste?"
      ]
    },
    {
      "cell_type": "markdown",
      "source": [
        "- En el dominio temporal, el ruido se percibe como fluctuaciones en la amplitud de la señal a lo largo del tiempo, abordado con filtrado y suavizado. Mientras, en el dominio frecuencial, el ruido se observa como picos en las amplitudes de ciertas frecuencias, tratado mediante filtrado en frecuencia, eliminación de ruido y análisis de componentes espectrales.\n",
        "\n",
        "- Caso 1 (señal pedida) = Los componentes de frecuencias de la señal se muestran a tráves de la transformada de Fourierm mientras que el gráfico muestra los picos de frecuencias correspondientes a las componentes senoidales de la señal.\n",
        "\n",
        " Caso 2 (señal creada con ruido) = La transformada de Fourier muestra los mismos componentes de frecuencia que su señal sin ruido, pero puede mostrar picos adcionales debido al ruido. Estos picos representarán las frecuencias del ruido y su amplitud puede representar la cantidad de ruido presente en cada frecuencia.\n",
        "\n",
        "\n",
        "\n"
      ],
      "metadata": {
        "id": "Y1DR5tKLfmXd"
      },
      "id": "Y1DR5tKLfmXd"
    },
    {
      "cell_type": "markdown",
      "id": "3add46e0-f5e2-4a20-8830-3e795f78d2a0",
      "metadata": {
        "id": "3add46e0-f5e2-4a20-8830-3e795f78d2a0"
      },
      "source": [
        "## 4. Referencias\n",
        "<p align=\"justify\">\n",
        "    \n",
        "\n",
        "\n",
        "[Sobre Teorema del sampleo]https://ipython-books.github.io/chapter-10-signal-processing/\n",
        "\n",
        "[Sobre Matplotlib] https://matplotlib.org/stable/gallery/mplot3d/2dcollections3d.html#sphx-glr-gallery-mplot3d-2dcollections3d-py\n",
        "\n",
        "[2D meshing]https://thepythoncodingbook.com/2021/08/30/2d-fourier-transform-in-python-and-fourier-synthesis-of-images/\n",
        "\n",
        "[Numerical Methods]https://pythonnumericalmethods.berkeley.edu/notebooks/Index.html"
      ]
    }
  ],
  "metadata": {
    "kernelspec": {
      "display_name": "Python 3 (ipykernel)",
      "language": "python",
      "name": "python3"
    },
    "language_info": {
      "codemirror_mode": {
        "name": "ipython",
        "version": 3
      },
      "file_extension": ".py",
      "mimetype": "text/x-python",
      "name": "python",
      "nbconvert_exporter": "python",
      "pygments_lexer": "ipython3",
      "version": "3.10.12"
    },
    "colab": {
      "provenance": [],
      "include_colab_link": true
    }
  },
  "nbformat": 4,
  "nbformat_minor": 5
}